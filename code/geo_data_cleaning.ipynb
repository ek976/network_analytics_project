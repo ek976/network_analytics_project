{
 "cells": [
  {
   "cell_type": "markdown",
   "id": "af88ff3b",
   "metadata": {},
   "source": [
    "# Georgraphic Data Cleaning\n",
    "\n",
    "We need to get a baseline of the locations for the fishing areas and then the locations of the companies that own the fishing vessels\n",
    "\n"
   ]
  },
  {
   "cell_type": "code",
   "execution_count": 1,
   "id": "8401c480",
   "metadata": {},
   "outputs": [],
   "source": [
    "import contextily as cx\n",
    "import matplotlib.pyplot as plt\n",
    "from shapely.geometry import Point\n",
    "import networkx as nx\n",
    "import numpy as np\n",
    "import geopandas as gpd\n",
    "import os\n",
    "import pandas as pd"
   ]
  },
  {
   "cell_type": "markdown",
   "id": "3322f617",
   "metadata": {},
   "source": [
    "## Fishing Locations\n",
    "\n",
    "First we will get the Centroids of the EEZs. \n",
    "\n",
    "The EEZ shapefiles are from: Maritime Boundaries Geodatabase: Maritime Boundaries and Exclusive Economic Zones (200NM), version 12"
   ]
  },
  {
   "cell_type": "code",
   "execution_count": null,
   "id": "d41e18a5",
   "metadata": {},
   "outputs": [],
   "source": [
    "input_shapefile = \"geo_files/World_EEZ_v12_20231025_0_360/eez_v12_0_360.gpkg\"\n",
    "output_centroids = \"geo_files/EEZ_centroids.gpkg\"\n",
    "\n",
    "# read World EEZs\n",
    "eezs = gpd.read_file(input_shapefile)"
   ]
  },
  {
   "cell_type": "code",
   "execution_count": null,
   "id": "b52a249e",
   "metadata": {},
   "outputs": [
    {
     "name": "stdout",
     "output_type": "stream",
     "text": [
      "     MRGID                                            GEONAME  MRGID_TER1  \\\n",
      "8     8448                     Tongan Exclusive Economic Zone      8674.0   \n",
      "20    8450   Kiribati Exclusive Economic Zone (Phoenix Group)      8658.0   \n",
      "37    8313                  Vanuatuan Exclusive Economic Zone      2202.0   \n",
      "47    8314            Solomon Islands Exclusive Economic Zone      8593.0   \n",
      "192  48957       United States Exclusive Economic Zone (Guam)      8599.0   \n",
      "193   8318                Marshallese Exclusive Economic Zone      2226.0   \n",
      "194  48980  United States Exclusive Economic Zone (Norther...      8598.0   \n",
      "195   8315                    Palauan Exclusive Economic Zone      8594.0   \n",
      "243   8326                   Tuvaluan Exclusive Economic Zone      2210.0   \n",
      "246   8325                     Fijian Exclusive Economic Zone      2108.0   \n",
      "249   8488  Kiribati Exclusive Economic Zone (Gilbert Isla...     17597.0   \n",
      "253   8316                Micronesian Exclusive Economic Zone      8595.0   \n",
      "256   8324          Papua New Guinean Exclusive Economic Zone      2237.0   \n",
      "258   8317                    Nauruan Exclusive Economic Zone      8596.0   \n",
      "\n",
      "    POL_TYPE  MRGID_SOV1                TERRITORY1 ISO_TER1        SOVEREIGN1  \\\n",
      "8      200NM        8674                     Tonga      TON             Tonga   \n",
      "20     200NM        2116             Phoenix Group      KIR          Kiribati   \n",
      "37     200NM        2202                   Vanuatu      VUT           Vanuatu   \n",
      "47     200NM        8593           Solomon Islands      SLB   Solomon Islands   \n",
      "192    200NM        2204                      Guam      GUM     United States   \n",
      "193    200NM        2226          Marshall Islands      MHL  Marshall Islands   \n",
      "194    200NM        2204  Northern Mariana Islands      MNP     United States   \n",
      "195    200NM        8594                     Palau      PLW             Palau   \n",
      "243    200NM        2210                    Tuvalu      TUV            Tuvalu   \n",
      "246    200NM        2108                      Fiji      FJI              Fiji   \n",
      "249    200NM        2116           Gilbert Islands      KIR          Kiribati   \n",
      "253    200NM        8595                Micronesia      FSM        Micronesia   \n",
      "256    200NM        2237          Papua New Guinea      PNG  Papua New Guinea   \n",
      "258    200NM        8596                     Nauru      NRU             Nauru   \n",
      "\n",
      "     MRGID_TER2  MRGID_SOV2  ... ISO_SOV1 ISO_SOV2 ISO_SOV3  UN_SOV1  UN_SOV2  \\\n",
      "8           NaN         NaN  ...      TON     None     None      776      NaN   \n",
      "20          NaN         NaN  ...      KIR     None     None      296      NaN   \n",
      "37          NaN         NaN  ...      VUT     None     None      548      NaN   \n",
      "47          NaN         NaN  ...      SLB     None     None       90      NaN   \n",
      "192         NaN         NaN  ...      USA     None     None      840      NaN   \n",
      "193         NaN         NaN  ...      MHL     None     None      584      NaN   \n",
      "194         NaN         NaN  ...      USA     None     None      840      NaN   \n",
      "195         NaN         NaN  ...      PLW     None     None      585      NaN   \n",
      "243         NaN         NaN  ...      TUV     None     None      798      NaN   \n",
      "246         NaN         NaN  ...      FJI     None     None      242      NaN   \n",
      "249         NaN         NaN  ...      KIR     None     None      296      NaN   \n",
      "253         NaN         NaN  ...      FSM     None     None      583      NaN   \n",
      "256         NaN         NaN  ...      PNG     None     None      598      NaN   \n",
      "258         NaN         NaN  ...      NRU     None     None      520      NaN   \n",
      "\n",
      "    UN_SOV3 UN_TER1 UN_TER2  UN_TER3  \\\n",
      "8       NaN   776.0     NaN      NaN   \n",
      "20      NaN   296.0     NaN      NaN   \n",
      "37      NaN   548.0     NaN      NaN   \n",
      "47      NaN    90.0     NaN      NaN   \n",
      "192     NaN   316.0     NaN      NaN   \n",
      "193     NaN   584.0     NaN      NaN   \n",
      "194     NaN   580.0     NaN      NaN   \n",
      "195     NaN   585.0     NaN      NaN   \n",
      "243     NaN   798.0     NaN      NaN   \n",
      "246     NaN   242.0     NaN      NaN   \n",
      "249     NaN   296.0     NaN      NaN   \n",
      "253     NaN   583.0     NaN      NaN   \n",
      "256     NaN   598.0     NaN      NaN   \n",
      "258     NaN   520.0     NaN      NaN   \n",
      "\n",
      "                                              geometry  \n",
      "8    MULTIPOLYGON (((188.19885 -15.9608, 188.29987 ...  \n",
      "20   MULTIPOLYGON (((191.09069 -6.88147, 189.42906 ...  \n",
      "37   MULTIPOLYGON (((166.92681 -12.43945, 166.92766...  \n",
      "47   MULTIPOLYGON (((163.06402 -5.03192, 163.13397 ...  \n",
      "192  MULTIPOLYGON (((148.07609 12.22555, 148.07548 ...  \n",
      "193  MULTIPOLYGON (((157.46054 10.42689, 157.46076 ...  \n",
      "194  MULTIPOLYGON (((148.07602 12.22849, 147.08061 ...  \n",
      "195  MULTIPOLYGON (((134.71878 11.55828, 134.7686 1...  \n",
      "243  MULTIPOLYGON (((179.85208 -13.03436, 179.70772...  \n",
      "246  MULTIPOLYGON (((181.50515 -15.29552, 181.51987...  \n",
      "249  MULTIPOLYGON (((180.0087 -1.60903, 180.01353 -...  \n",
      "253  MULTIPOLYGON (((137.48862 8.29626, 137.48754 8...  \n",
      "256  MULTIPOLYGON (((151.41168 1.63175, 151.42446 1...  \n",
      "258  MULTIPOLYGON (((168.24006 -0.68735, 168.20449 ...  \n",
      "\n",
      "[14 rows x 32 columns]\n"
     ]
    }
   ],
   "source": [
    "# filter for the EEZs we have data for\n",
    "west_pac = ['United States Exclusive Economic Zone (Guam)', 'United States Exclusive Economic Zone (Northern Mariana Islands)',\n",
    "            'Kiribati Exclusive Economic Zone (Phoenix Group)', 'Vanuatuan Exclusive Economic Zone', 'Solomon Islands Exclusive Economic Zone',\n",
    "            'Fijian Exclusive Economic Zone', 'Kiribati Exclusive Economic Zone (Gilbert Islands)', 'Micronesian Exclusive Economic Zone', \n",
    "            'Papua New Guinean Exclusive Economic Zone', 'Nauruan Exclusive Economic Zone','Palauan Exclusive Economic Zone',\n",
    "             'Marshallese Exclusive Economic Zone', 'Tongan Exclusive Economic Zone', 'Tuvaluan Exclusive Economic Zone' ]\n",
    "eezs = eezs[eezs['GEONAME'].isin(west_pac)]\n",
    "\n",
    "print(eezs.head(15))"
   ]
  },
  {
   "cell_type": "code",
   "execution_count": 49,
   "id": "6bffb625",
   "metadata": {},
   "outputs": [
    {
     "name": "stdout",
     "output_type": "stream",
     "text": [
      "                                               GEONAME  \\\n",
      "8                       Tongan Exclusive Economic Zone   \n",
      "20    Kiribati Exclusive Economic Zone (Phoenix Group)   \n",
      "37                   Vanuatuan Exclusive Economic Zone   \n",
      "47             Solomon Islands Exclusive Economic Zone   \n",
      "192       United States Exclusive Economic Zone (Guam)   \n",
      "193                Marshallese Exclusive Economic Zone   \n",
      "194  United States Exclusive Economic Zone (Norther...   \n",
      "195                    Palauan Exclusive Economic Zone   \n",
      "243                   Tuvaluan Exclusive Economic Zone   \n",
      "246                     Fijian Exclusive Economic Zone   \n",
      "249  Kiribati Exclusive Economic Zone (Gilbert Isla...   \n",
      "253                Micronesian Exclusive Economic Zone   \n",
      "256          Papua New Guinean Exclusive Economic Zone   \n",
      "258                    Nauruan Exclusive Economic Zone   \n",
      "\n",
      "                        geometry  \n",
      "8    POINT (185.23414 -20.22175)  \n",
      "20    POINT (187.54603 -3.73181)  \n",
      "37   POINT (168.55743 -16.58523)  \n",
      "47   POINT (163.68539 -10.04465)  \n",
      "192   POINT (144.00261 12.92958)  \n",
      "193   POINT (167.48547 10.15136)  \n",
      "194    POINT (145.73933 18.2866)  \n",
      "195     POINT (133.0695 6.44393)  \n",
      "243   POINT (178.18288 -7.81254)  \n",
      "246  POINT (177.68935 -17.94847)  \n",
      "249   POINT (173.88789 -0.25912)  \n",
      "253    POINT (150.32248 6.76843)  \n",
      "256   POINT (150.71973 -5.45663)  \n",
      "258   POINT (166.12396 -0.59113)  \n"
     ]
    },
    {
     "name": "stderr",
     "output_type": "stream",
     "text": [
      "/var/folders/9r/1lhfzshj5bvf1d4ybbng0kr00000gn/T/ipykernel_4937/287590102.py:3: UserWarning: Geometry is in a geographic CRS. Results from 'centroid' are likely incorrect. Use 'GeoSeries.to_crs()' to re-project geometries to a projected CRS before this operation.\n",
      "\n",
      "  eez_centroids['geometry'] = eez_centroids['geometry'].centroid\n"
     ]
    }
   ],
   "source": [
    "# find centroids and write to a file\n",
    "eez_centroids = eezs[['GEONAME','geometry']].copy()\n",
    "eez_centroids['geometry'] = eez_centroids['geometry'].centroid\n",
    "\n",
    "eez_centroids.to_file(output_centroids)\n",
    "print(eez_centroids.head(20))"
   ]
  },
  {
   "cell_type": "markdown",
   "id": "558e4153",
   "metadata": {},
   "source": [
    "Now we will add in the geometries from the High Seas Pockets"
   ]
  },
  {
   "cell_type": "code",
   "execution_count": 85,
   "id": "5eb7fb4e",
   "metadata": {},
   "outputs": [
    {
     "name": "stdout",
     "output_type": "stream",
     "text": [
      "EPSG:4326\n",
      "EPSG:4326\n"
     ]
    }
   ],
   "source": [
    "# Check the Coordinate Reference Systems\n",
    "file = 'geo_files/HSP_geos/hps3_geometry.geojson'\n",
    "test = gpd.read_file(file)\n",
    "\n",
    "print(test.crs)\n",
    "\n",
    "print(eez_centroids.crs)"
   ]
  },
  {
   "cell_type": "code",
   "execution_count": 72,
   "id": "4343abe5",
   "metadata": {},
   "outputs": [
    {
     "name": "stdout",
     "output_type": "stream",
     "text": [
      "              GEONAME                     geometry\n",
      "0  High Seas Pocket 6  POINT (-165.39579 -4.88687)\n",
      "1  High Seas Pocket 2    POINT (142.87993 3.05822)\n",
      "2  High Seas Pocket 3   POINT (155.95434 16.04416)\n",
      "3  High Seas Pocket 7   POINT (-164.5541 -4.16105)\n",
      "4  High Seas Pocket 5  POINT (173.01948 -15.37524)\n",
      "5  High Seas Pocket 4   POINT (165.92438 -3.38587)\n",
      "6  High Seas Pocket 1   POINT (133.26613 16.03818)\n"
     ]
    },
    {
     "name": "stderr",
     "output_type": "stream",
     "text": [
      "/var/folders/9r/1lhfzshj5bvf1d4ybbng0kr00000gn/T/ipykernel_4937/3066690805.py:16: UserWarning: Geometry is in a geographic CRS. Results from 'centroid' are likely incorrect. Use 'GeoSeries.to_crs()' to re-project geometries to a projected CRS before this operation.\n",
      "\n",
      "  hsp['geometry'] = hsp['geometry'].centroid\n",
      "/var/folders/9r/1lhfzshj5bvf1d4ybbng0kr00000gn/T/ipykernel_4937/3066690805.py:16: UserWarning: Geometry is in a geographic CRS. Results from 'centroid' are likely incorrect. Use 'GeoSeries.to_crs()' to re-project geometries to a projected CRS before this operation.\n",
      "\n",
      "  hsp['geometry'] = hsp['geometry'].centroid\n",
      "/var/folders/9r/1lhfzshj5bvf1d4ybbng0kr00000gn/T/ipykernel_4937/3066690805.py:16: UserWarning: Geometry is in a geographic CRS. Results from 'centroid' are likely incorrect. Use 'GeoSeries.to_crs()' to re-project geometries to a projected CRS before this operation.\n",
      "\n",
      "  hsp['geometry'] = hsp['geometry'].centroid\n",
      "/var/folders/9r/1lhfzshj5bvf1d4ybbng0kr00000gn/T/ipykernel_4937/3066690805.py:16: UserWarning: Geometry is in a geographic CRS. Results from 'centroid' are likely incorrect. Use 'GeoSeries.to_crs()' to re-project geometries to a projected CRS before this operation.\n",
      "\n",
      "  hsp['geometry'] = hsp['geometry'].centroid\n",
      "/var/folders/9r/1lhfzshj5bvf1d4ybbng0kr00000gn/T/ipykernel_4937/3066690805.py:16: UserWarning: Geometry is in a geographic CRS. Results from 'centroid' are likely incorrect. Use 'GeoSeries.to_crs()' to re-project geometries to a projected CRS before this operation.\n",
      "\n",
      "  hsp['geometry'] = hsp['geometry'].centroid\n",
      "/var/folders/9r/1lhfzshj5bvf1d4ybbng0kr00000gn/T/ipykernel_4937/3066690805.py:16: UserWarning: Geometry is in a geographic CRS. Results from 'centroid' are likely incorrect. Use 'GeoSeries.to_crs()' to re-project geometries to a projected CRS before this operation.\n",
      "\n",
      "  hsp['geometry'] = hsp['geometry'].centroid\n",
      "/var/folders/9r/1lhfzshj5bvf1d4ybbng0kr00000gn/T/ipykernel_4937/3066690805.py:16: UserWarning: Geometry is in a geographic CRS. Results from 'centroid' are likely incorrect. Use 'GeoSeries.to_crs()' to re-project geometries to a projected CRS before this operation.\n",
      "\n",
      "  hsp['geometry'] = hsp['geometry'].centroid\n"
     ]
    }
   ],
   "source": [
    "# folder of geojsons\n",
    "hsp_path = 'geo_files/HSP_geos/'\n",
    "\n",
    "# init file to hold geometries\n",
    "hsp_centroids = gpd.GeoDataFrame()\n",
    "\n",
    "# loop through the files to combine to one dataframe\n",
    "for file in os.listdir(hsp_path):\n",
    "    # update name\n",
    "    hsp = gpd.read_file(hsp_path+file)\n",
    "    hsp_num = str(file)[3:4]\n",
    "    hsp_name = \"High Seas Pocket \"+hsp_num\n",
    "    hsp.columns = ['GEONAME','geometry']\n",
    "    hsp['GEONAME'] = hsp_name\n",
    "    # find the centroids\n",
    "    hsp['geometry'] = hsp['geometry'].centroid\n",
    "    # add to data frame\n",
    "    hsp_centroids = pd.concat([hsp_centroids, hsp], ignore_index=True)\n",
    "\n",
    "print(hsp_centroids.head(10))\n"
   ]
  },
  {
   "cell_type": "code",
   "execution_count": 74,
   "id": "ea0200e9",
   "metadata": {},
   "outputs": [
    {
     "name": "stdout",
     "output_type": "stream",
     "text": [
      "                                              GEONAME  \\\n",
      "0                                  High Seas Pocket 6   \n",
      "1                                  High Seas Pocket 2   \n",
      "2                                  High Seas Pocket 3   \n",
      "3                                  High Seas Pocket 7   \n",
      "4                                  High Seas Pocket 5   \n",
      "5                                  High Seas Pocket 4   \n",
      "6                                  High Seas Pocket 1   \n",
      "7                      Tongan Exclusive Economic Zone   \n",
      "8    Kiribati Exclusive Economic Zone (Phoenix Group)   \n",
      "9                   Vanuatuan Exclusive Economic Zone   \n",
      "10            Solomon Islands Exclusive Economic Zone   \n",
      "11       United States Exclusive Economic Zone (Guam)   \n",
      "12                Marshallese Exclusive Economic Zone   \n",
      "13  United States Exclusive Economic Zone (Norther...   \n",
      "14                    Palauan Exclusive Economic Zone   \n",
      "15                   Tuvaluan Exclusive Economic Zone   \n",
      "16                     Fijian Exclusive Economic Zone   \n",
      "17  Kiribati Exclusive Economic Zone (Gilbert Isla...   \n",
      "18                Micronesian Exclusive Economic Zone   \n",
      "19          Papua New Guinean Exclusive Economic Zone   \n",
      "\n",
      "                       geometry  \n",
      "0   POINT (-165.39579 -4.88687)  \n",
      "1     POINT (142.87993 3.05822)  \n",
      "2    POINT (155.95434 16.04416)  \n",
      "3    POINT (-164.5541 -4.16105)  \n",
      "4   POINT (173.01948 -15.37524)  \n",
      "5    POINT (165.92438 -3.38587)  \n",
      "6    POINT (133.26613 16.03818)  \n",
      "7   POINT (185.23414 -20.22175)  \n",
      "8    POINT (187.54603 -3.73181)  \n",
      "9   POINT (168.55743 -16.58523)  \n",
      "10  POINT (163.68539 -10.04465)  \n",
      "11   POINT (144.00261 12.92958)  \n",
      "12   POINT (167.48547 10.15136)  \n",
      "13    POINT (145.73933 18.2866)  \n",
      "14     POINT (133.0695 6.44393)  \n",
      "15   POINT (178.18288 -7.81254)  \n",
      "16  POINT (177.68935 -17.94847)  \n",
      "17   POINT (173.88789 -0.25912)  \n",
      "18    POINT (150.32248 6.76843)  \n",
      "19   POINT (150.71973 -5.45663)  \n"
     ]
    }
   ],
   "source": [
    "# combine the two files together and save again\n",
    "\n",
    "all_centroids = pd.concat([hsp_centroids, eez_centroids], ignore_index=True)\n",
    "\n",
    "all_centroids.to_file(output_centroids)\n",
    "\n",
    "print(all_centroids.head(20))"
   ]
  },
  {
   "cell_type": "markdown",
   "id": "d57f1a69",
   "metadata": {},
   "source": [
    "## Locations of Vessel Owners and Home Ports\n",
    "\n",
    "The addresses for the owners are not uniform at all, some are just cities, some are PO boxes, and others are regular addresses. The addresses are also spread across many countries, which do not have uniform ways to write addresses. To fix this and to get the latitude and longitude of these locations, I will use OpenAI's API to get the info.\n",
    "\n",
    "Note: I used ChatGPT to trouble shoot my queries before using the API and also used it to help set up the API key funcitons and parse the response."
   ]
  },
  {
   "cell_type": "code",
   "execution_count": 4,
   "id": "12a257b5",
   "metadata": {},
   "outputs": [],
   "source": [
    "from openai import OpenAI\n",
    "import json\n",
    "import os\n",
    "import re\n",
    "\n",
    "# Load API key from JSON\n",
    "def load_api_key(file_path):\n",
    "    with open(file_path, 'r') as f:\n",
    "        config = json.load(f)\n",
    "    return config.get(\"openai_api_key\")\n",
    "\n",
    "# Load the OpenAI API key\n",
    "api_key_file = 'api-keys.json'\n",
    "openai_api_key = load_api_key(api_key_file)\n",
    "\n",
    "# Instantiate the client\n",
    "client = OpenAI(api_key=openai_api_key)"
   ]
  },
  {
   "cell_type": "markdown",
   "id": "467d97b6",
   "metadata": {},
   "source": [
    "Create functions to call and parse the OpenAI API."
   ]
  },
  {
   "cell_type": "code",
   "execution_count": 5,
   "id": "a51fdc97",
   "metadata": {},
   "outputs": [],
   "source": [
    "# Process job descriptions with GPT\n",
    "def owner_location(owner_address):\n",
    "    completion = client.chat.completions.create(\n",
    "        model=\"gpt-4o-mini\",\n",
    "        messages=[\n",
    "            {\"role\": \"system\", \"content\": \"You are a helpful assistant helping to find the location of these companies.\"},\n",
    "            {\n",
    "                \"role\": \"user\",\n",
    "                \"content\": \"Can you look at this address and give me a bulleted list of its detailed location.\"+\n",
    "                \"Please provide the response as a bulleted list with the following structure (do not include the headers of the bullets):\"+\n",
    "                \"-- [Cleaned Address] -- [Providence/State] -- [Country(three letter abbreviation)]\"+ \n",
    "                \"-- [Latitude (XXX.XXXXX format] --  [Longitude (XX.XXXXX format]\"+\n",
    "                \"Here is the address:\"+owner_address\n",
    "            }\n",
    "        ]\n",
    "    )\n",
    "\n",
    "    return completion.choices[0].message.content\n",
    "\n",
    "def parse_location_response(response: str) -> dict:\n",
    "    # Default structure\n",
    "    result = {\n",
    "        \"Cleaned Address\": None,\n",
    "        \"Province/State\": None,\n",
    "        \"Country\": None,\n",
    "        \"Latitude\": None,\n",
    "        \"Longitude\": None\n",
    "    }\n",
    "\n",
    "    # Clean and split the response into lines\n",
    "    lines = [line.strip().lstrip('-').strip() for line in response.strip().split('\\n') if line.strip()]\n",
    "\n",
    "    for line in lines:\n",
    "        line_lower = line.lower()\n",
    "\n",
    "        # Handle labeled latitude/longitude, sometimes the API will label lat and long and sometimes not\n",
    "        # This part of the function handles both\n",
    "        if \"latitude\" in line_lower:\n",
    "            try:\n",
    "                result[\"Latitude\"] = float(re.search(r\"[-+]?\\d*\\.\\d+|\\d+\", line).group())\n",
    "            except:\n",
    "                pass\n",
    "        elif \"longitude\" in line_lower:\n",
    "            try:\n",
    "                result[\"Longitude\"] = float(re.search(r\"[-+]?\\d*\\.\\d+|\\d+\", line).group())\n",
    "            except:\n",
    "                pass\n",
    "        # Fallback to ordered structure for unlabeled values\n",
    "        elif result[\"Cleaned Address\"] is None:\n",
    "            result[\"Cleaned Address\"] = line\n",
    "        elif result[\"Province/State\"] is None:\n",
    "            result[\"Province/State\"] = line\n",
    "        elif result[\"Country\"] is None:\n",
    "            result[\"Country\"] = line\n",
    "        elif result[\"Latitude\"] is None:\n",
    "            try:\n",
    "                result[\"Latitude\"] = float(line)\n",
    "            except:\n",
    "                pass\n",
    "        elif result[\"Longitude\"] is None:\n",
    "            try:\n",
    "                result[\"Longitude\"] = float(line)\n",
    "            except:\n",
    "                pass\n",
    "\n",
    "    return result"
   ]
  },
  {
   "cell_type": "markdown",
   "id": "8da4d770",
   "metadata": {},
   "source": [
    "First I will test out the functions to make sure they are working before sending the whole list of addresses to it."
   ]
  },
  {
   "cell_type": "code",
   "execution_count": 44,
   "id": "d541b674",
   "metadata": {},
   "outputs": [],
   "source": [
    "# load aid and RFV merged file\n",
    "rfv = pd.read_csv('../data/ais_rfv_long.csv')\n",
    "\n",
    "# rfv = rfv[:5]"
   ]
  },
  {
   "cell_type": "code",
   "execution_count": 88,
   "id": "b027451b",
   "metadata": {},
   "outputs": [
    {
     "name": "stdout",
     "output_type": "stream",
     "text": [
      "9F SHANDONG HIGH-SPEED BUILDING,NO.29 MIAOLING ROAD,QINGDAO,CHINA\n",
      "- 9F Shandong High-Speed Building, No.29 Miaoling Road  \n",
      "- Qingdao  \n",
      "- CHN  \n",
      "- 36.06732  \n",
      "- 120.38702  \n",
      "                                    original_address  \\\n",
      "0  9F SHANDONG HIGH-SPEED BUILDING,NO.29 MIAOLING...   \n",
      "\n",
      "                                         new_address owner_providence_state  \\\n",
      "0  9F Shandong High-Speed Building, No.29 Miaolin...                Qingdao   \n",
      "\n",
      "  owner_country  owner_latitude  owner_longitude  \n",
      "0           CHN        36.06732        120.38702  \n"
     ]
    }
   ],
   "source": [
    "orig_address = rfv['owner_address'][564]\n",
    "print(orig_address)\n",
    "\n",
    "response = owner_location(orig_address)\n",
    "print(response)\n",
    "# parse the response\n",
    "address_info = parse_location_response(response)\n",
    "\n",
    "# add all the informaiton together\n",
    "new_row_df = pd.DataFrame({'original_address': [orig_address], 'new_address': [address_info['Cleaned Address']], \n",
    "                            'owner_providence_state':[address_info['Province/State']], 'owner_country':[address_info['Country']],\n",
    "                            'owner_latitude':[address_info['Latitude']],'owner_longitude':[address_info['Longitude']]})\n",
    "\n",
    "print(new_row_df)"
   ]
  },
  {
   "cell_type": "markdown",
   "id": "bfdd96e3",
   "metadata": {},
   "source": [
    "Now I will do it on just the unique addresses and then combine with the other dataset later."
   ]
  },
  {
   "cell_type": "code",
   "execution_count": 92,
   "id": "3db7bcd4",
   "metadata": {},
   "outputs": [
    {
     "name": "stderr",
     "output_type": "stream",
     "text": [
      "/var/folders/9r/1lhfzshj5bvf1d4ybbng0kr00000gn/T/ipykernel_23321/2518592102.py:27: FutureWarning: The behavior of DataFrame concatenation with empty or all-NA entries is deprecated. In a future version, this will no longer exclude empty or all-NA columns when determining the result dtypes. To retain the old behavior, exclude the relevant entries before the concat operation.\n",
      "  company_locs = pd.concat([company_locs,new_row_df], ignore_index=True)\n"
     ]
    },
    {
     "name": "stdout",
     "output_type": "stream",
     "text": [
      "616\n",
      "                                    original_address  \\\n",
      "0  Room503,5F,Building 1, No.1 Xingye Road, Ganla...   \n",
      "1  ROOM 1606 DIAMOND PLAZA,415 JIANGAN ROAD,JIANG...   \n",
      "2  Building 3, 87 Yuan 'an xinjie, Haizhu Distric...   \n",
      "3  Room 1401,No.644 Tongfu Road East, Guangzhou, ...   \n",
      "4  Room 1401, No.644 Tongfu Road East, Guangzhou,...   \n",
      "\n",
      "                                         new_address owner_providence_state  \\\n",
      "0  Room 503, 5F, Building 1, No. 1 Xingye Road, G...               Zhejiang   \n",
      "1  ROOM 1606 DIAMOND PLAZA, 415 JIANGAN ROAD, JIA...                   None   \n",
      "2  Building 3, 87 Yuan 'an xinjie, Haizhu Distric...     Guangdong Province   \n",
      "3                Room 1401, No. 644 Tongfu Road East   Guangzhou, Guangdong   \n",
      "4                 Room 1401, No.644 Tongfu Road East   Guangzhou, Guangdong   \n",
      "\n",
      "  owner_country  owner_latitude  owner_longitude  \n",
      "0           CHN       29.983330       122.113330  \n",
      "1          None             NaN              NaN  \n",
      "2           CHN       23.104274       113.281733  \n",
      "3           CHN       23.139500       113.275230  \n",
      "4           CHN       23.138670       113.267880  \n"
     ]
    }
   ],
   "source": [
    "# find just the unique addresses\n",
    "u_addresses = rfv['owner_address'].unique()\n",
    "# print(len(u_addresses))\n",
    "# There are 616 unique addresses\n",
    "\n",
    "# # for testing a smaller group\n",
    "# u_addresses_sub = u_addresses[305:310]\n",
    "# # print(u_addresses_sub)\n",
    "\n",
    "# init a df to store the location results\n",
    "company_locs = pd.DataFrame()\n",
    "\n",
    "for i in range(0,len(u_addresses)):\n",
    "    # the old address\n",
    "    orig_address = u_addresses[i]\n",
    "    # use the OpenAI API to find the location info\n",
    "    response = owner_location(orig_address)\n",
    "    # parse the response\n",
    "    address_info = parse_location_response(response)\n",
    "\n",
    "    # add all the informaiton together\n",
    "    new_row_df = pd.DataFrame({'original_address': [orig_address], 'new_address': [address_info['Cleaned Address']], \n",
    "                               'owner_providence_state':[address_info['Province/State']], 'owner_country':[address_info['Country']],\n",
    "                                'owner_latitude':[address_info['Latitude']],'owner_longitude':[address_info['Longitude']]})\n",
    "    \n",
    "    # add to the dataframe\n",
    "    company_locs = pd.concat([company_locs,new_row_df], ignore_index=True)\n",
    "    # save to csv in case something goes wrong while the API is running\n",
    "    company_locs.to_csv('../data/company_locations_unique.csv', index=False)\n",
    "\n",
    "# print the dataframe to check \n",
    "print(len(company_locs))\n",
    "print(company_locs.head())"
   ]
  },
  {
   "cell_type": "markdown",
   "id": "f9adcd40",
   "metadata": {},
   "source": [
    "### Home Port Locations\n",
    "\n",
    "Now I want to find all the exact locations of the home ports."
   ]
  },
  {
   "cell_type": "code",
   "execution_count": null,
   "id": "65e8b297",
   "metadata": {},
   "outputs": [
    {
     "name": "stdout",
     "output_type": "stream",
     "text": [
      "82\n"
     ]
    }
   ],
   "source": [
    "# load aid and RFV merged file\n",
    "rfv = pd.read_csv('../data/ais_rfv_long.csv')\n",
    "\n",
    "# find just the unique homeports\n",
    "u_ports = rfv['home_port'].unique()\n",
    "# print(len(u_ports))\n",
    "# there are 82 unique ports"
   ]
  },
  {
   "cell_type": "markdown",
   "id": "93f00892",
   "metadata": {},
   "source": [
    "Using the OpenAI API again, I will try the original location function out for the port."
   ]
  },
  {
   "cell_type": "code",
   "execution_count": 9,
   "id": "79b7b11b",
   "metadata": {},
   "outputs": [
    {
     "name": "stdout",
     "output_type": "stream",
     "text": [
      "('Qingdao', 'CHN')\n",
      "- Qingdao  \n",
      "- Shandong  \n",
      "- CHN  \n",
      "- 36.099999  \n",
      "- 120.371111\n",
      "     original_address new_address owner_providence_state owner_country  \\\n",
      "0  ('Qingdao', 'CHN')     Qingdao               Shandong           CHN   \n",
      "\n",
      "   owner_latitude  owner_longitude  \n",
      "0       36.099999       120.371111  \n"
     ]
    }
   ],
   "source": [
    "orig_port = rfv['home_port'][564]\n",
    "print(orig_port)\n",
    "\n",
    "response = owner_location(orig_port)\n",
    "print(response)\n",
    "# parse the response\n",
    "port_info = parse_location_response(response)\n",
    "\n",
    "# add all the informaiton together\n",
    "new_row_df = pd.DataFrame({'original_address': [orig_port], 'new_address': [port_info['Cleaned Address']], \n",
    "                            'owner_providence_state':[port_info['Province/State']], 'owner_country':[port_info['Country']],\n",
    "                            'owner_latitude':[port_info['Latitude']],'owner_longitude':[port_info['Longitude']]})\n",
    "\n",
    "print(new_row_df)"
   ]
  },
  {
   "cell_type": "code",
   "execution_count": 15,
   "id": "170453c7",
   "metadata": {},
   "outputs": [
    {
     "name": "stdout",
     "output_type": "stream",
     "text": [
      "82\n",
      "     original_home_port clean_home_port      home_port_providence_state  \\\n",
      "0   ('Zhoushan', 'CHN')        Zhoushan                        Zhejiang   \n",
      "1     ('Ningbo', 'CHN')   Ningbo, China               Zhejiang Province   \n",
      "2  ('Guangzhou', 'CHN')       Guangzhou              Guangdong Province   \n",
      "3     ('Shidao', 'CHN')          Shidao  Providence/State: 不明 (Unknown)   \n",
      "4   ('Shanghai', 'CHN')        Shanghai                        Shanghai   \n",
      "\n",
      "                          home_port_country  home_port_latitude  \\\n",
      "0                                       CHN            29.99000   \n",
      "1                                       CHN            29.86820   \n",
      "2                                       CHN            23.12911   \n",
      "3  Country (three letter abbreviation): CHN            25.18109   \n",
      "4                                       CHN            31.23040   \n",
      "\n",
      "   home_port_longitude  \n",
      "0            122.20000  \n",
      "1            121.54940  \n",
      "2            113.26436  \n",
      "3            119.43783  \n",
      "4            121.47370  \n"
     ]
    }
   ],
   "source": [
    "# # # for testing a smaller group\n",
    "# u_port_sub = u_ports[30:35]\n",
    "# # print(u_port_sub)\n",
    "\n",
    "# init a df to store the location results\n",
    "port_locs = pd.DataFrame()\n",
    "\n",
    "for i in range(0,len(u_ports)):\n",
    "    # the port name\n",
    "    orig_port = u_ports[i]\n",
    "\n",
    "    # call the API again\n",
    "    response = owner_location(orig_port)\n",
    "    # parse the response\n",
    "    port_info = parse_location_response(response)\n",
    "\n",
    "    # add all the informaiton together\n",
    "    new_row_df = pd.DataFrame({'original_home_port': [orig_port], 'clean_home_port': [port_info['Cleaned Address']], \n",
    "                                'home_port_providence_state':[port_info['Province/State']], 'home_port_country':[port_info['Country']],\n",
    "                                'home_port_latitude':[port_info['Latitude']],'home_port_longitude':[port_info['Longitude']]})\n",
    "    \n",
    "    # add to the dataframe\n",
    "    port_locs = pd.concat([port_locs,new_row_df], ignore_index=True)\n",
    "    # save to csv in case something goes wrong while the API is running\n",
    "    port_locs.to_csv('../data/port_locations_unique.csv', index=False)\n",
    "\n",
    "# print the dataframe to check \n",
    "print(len(port_locs))\n",
    "print(port_locs.head())"
   ]
  },
  {
   "cell_type": "markdown",
   "id": "a56f67d3",
   "metadata": {},
   "source": [
    "## Geo Data Merging\n",
    "\n",
    "Now we will merge the locations with our other data"
   ]
  },
  {
   "cell_type": "code",
   "execution_count": 3,
   "id": "94e6b0f0",
   "metadata": {},
   "outputs": [],
   "source": [
    "# load aid and RFV merged file\n",
    "rfv = pd.read_csv('../data/ais_rfv_long.csv')\n",
    "\n",
    "# load the two new geo coded files\n",
    "ports = pd.read_csv(\"../data/port_locations_unique.csv\")\n",
    "company_locs = pd.read_csv(\"../data/company_locations_unique.csv\")"
   ]
  },
  {
   "cell_type": "code",
   "execution_count": 4,
   "id": "38d0dd74",
   "metadata": {},
   "outputs": [
    {
     "name": "stdout",
     "output_type": "stream",
     "text": [
      "  flag     vessel_name         mmsi        imo  fishing_hours   fishing_area  \\\n",
      "0  CHN    DONG YU 1521  412421095.0        NaN          22.86           hsp7   \n",
      "1  CHN    DONG YU 1521  412421095.0        NaN         291.10           hsp6   \n",
      "2  CHN    DONG YU 1521  412421095.0        NaN        1421.71   kirbati2_eez   \n",
      "3  CHN    DONG YU 1521  412421095.0        NaN         741.84  kiribati1_eez   \n",
      "4  CHN  FENG XIANG 818  412439604.0  8996176.0          12.19      nauru_eez   \n",
      "\n",
      "                                     owner  \\\n",
      "0  Zhejiang Xingpeng Ocean Fishery CO.,LTD   \n",
      "1  Zhejiang Xingpeng Ocean Fishery CO.,LTD   \n",
      "2  Zhejiang Xingpeng Ocean Fishery CO.,LTD   \n",
      "3  Zhejiang Xingpeng Ocean Fishery CO.,LTD   \n",
      "4    Ningbo Yongfa Ocean Fisheries CO.,LTD   \n",
      "\n",
      "                                       owner_address   vessel_type  \\\n",
      "0  Room503,5F,Building 1, No.1 Xingye Road, Ganla...     Longliner   \n",
      "1  Room503,5F,Building 1, No.1 Xingye Road, Ganla...     Longliner   \n",
      "2  Room503,5F,Building 1, No.1 Xingye Road, Ganla...     Longliner   \n",
      "3  Room503,5F,Building 1, No.1 Xingye Road, Ganla...     Longliner   \n",
      "4  ROOM 1606 DIAMOND PLAZA,415 JIANGAN ROAD,JIANG...  Purse seiner   \n",
      "\n",
      "       owner_location            home_port  \n",
      "0  ('Zhoushan', None)  ('Zhoushan', 'CHN')  \n",
      "1  ('Zhoushan', None)  ('Zhoushan', 'CHN')  \n",
      "2  ('Zhoushan', None)  ('Zhoushan', 'CHN')  \n",
      "3  ('Zhoushan', None)  ('Zhoushan', 'CHN')  \n",
      "4   ('NINGBO', 'CHN')    ('Ningbo', 'CHN')  \n"
     ]
    }
   ],
   "source": [
    "print(rfv.head())"
   ]
  },
  {
   "cell_type": "code",
   "execution_count": 7,
   "id": "94833ea8",
   "metadata": {},
   "outputs": [
    {
     "name": "stdout",
     "output_type": "stream",
     "text": [
      "     original_home_port clean_home_port      home_port_providence_state  \\\n",
      "0   ('Zhoushan', 'CHN')        Zhoushan                        Zhejiang   \n",
      "1     ('Ningbo', 'CHN')   Ningbo, China               Zhejiang Province   \n",
      "2  ('Guangzhou', 'CHN')       Guangzhou              Guangdong Province   \n",
      "3     ('Shidao', 'CHN')          Shidao  Providence/State: 不明 (Unknown)   \n",
      "4   ('Shanghai', 'CHN')        Shanghai                        Shanghai   \n",
      "\n",
      "                          home_port_country  home_port_latitude  \\\n",
      "0                                       CHN            29.99000   \n",
      "1                                       CHN            29.86820   \n",
      "2                                       CHN            23.12911   \n",
      "3  Country (three letter abbreviation): CHN            25.18109   \n",
      "4                                       CHN            31.23040   \n",
      "\n",
      "   home_port_longitude  \n",
      "0            122.20000  \n",
      "1            121.54940  \n",
      "2            113.26436  \n",
      "3            119.43783  \n",
      "4            121.47370  \n"
     ]
    }
   ],
   "source": [
    "print(ports.head())"
   ]
  },
  {
   "cell_type": "code",
   "execution_count": 12,
   "id": "2310dcd1",
   "metadata": {},
   "outputs": [
    {
     "name": "stdout",
     "output_type": "stream",
     "text": [
      "  flag     vessel_name  fishing_hours   fishing_area  \\\n",
      "0  CHN    DONG YU 1521          22.86           hsp7   \n",
      "1  CHN    DONG YU 1521         291.10           hsp6   \n",
      "2  CHN    DONG YU 1521        1421.71   kirbati2_eez   \n",
      "3  CHN    DONG YU 1521         741.84  kiribati1_eez   \n",
      "4  CHN  FENG XIANG 818          12.19      nauru_eez   \n",
      "\n",
      "                                     owner   vessel_type  \\\n",
      "0  Zhejiang Xingpeng Ocean Fishery CO.,LTD     Longliner   \n",
      "1  Zhejiang Xingpeng Ocean Fishery CO.,LTD     Longliner   \n",
      "2  Zhejiang Xingpeng Ocean Fishery CO.,LTD     Longliner   \n",
      "3  Zhejiang Xingpeng Ocean Fishery CO.,LTD     Longliner   \n",
      "4    Ningbo Yongfa Ocean Fisheries CO.,LTD  Purse seiner   \n",
      "\n",
      "                                       owner_address owner_providence_state  \\\n",
      "0  Room 503, 5F, Building 1, No. 1 Xingye Road, G...               Zhejiang   \n",
      "1  Room 503, 5F, Building 1, No. 1 Xingye Road, G...               Zhejiang   \n",
      "2  Room 503, 5F, Building 1, No. 1 Xingye Road, G...               Zhejiang   \n",
      "3  Room 503, 5F, Building 1, No. 1 Xingye Road, G...               Zhejiang   \n",
      "4  ROOM 1606 DIAMOND PLAZA, 415 JIANGAN ROAD, JIA...                    NaN   \n",
      "\n",
      "  owner_country  owner_latitude  owner_longitude home_port_name  \\\n",
      "0           CHN        29.98333        122.11333       Zhoushan   \n",
      "1           CHN        29.98333        122.11333       Zhoushan   \n",
      "2           CHN        29.98333        122.11333       Zhoushan   \n",
      "3           CHN        29.98333        122.11333       Zhoushan   \n",
      "4           NaN             NaN              NaN  Ningbo, China   \n",
      "\n",
      "  home_port_providence_state home_port_country  home_port_latitude  \\\n",
      "0                   Zhejiang               CHN             29.9900   \n",
      "1                   Zhejiang               CHN             29.9900   \n",
      "2                   Zhejiang               CHN             29.9900   \n",
      "3                   Zhejiang               CHN             29.9900   \n",
      "4          Zhejiang Province               CHN             29.8682   \n",
      "\n",
      "   home_port_longitude  \n",
      "0             122.2000  \n",
      "1             122.2000  \n",
      "2             122.2000  \n",
      "3             122.2000  \n",
      "4             121.5494  \n"
     ]
    }
   ],
   "source": [
    "# merge the data frames\n",
    "merged = pd.merge(rfv, company_locs, left_on=\"owner_address\", right_on = \"original_address\")\n",
    "merged = pd.merge(merged, ports, left_on=\"home_port\", right_on = \"original_home_port\")\n",
    "\n",
    "# drop some redundent columns\n",
    "merged = merged[['flag', 'vessel_name', 'fishing_hours', 'fishing_area',\n",
    "       'owner', 'vessel_type', 'new_address', 'owner_providence_state',\n",
    "       'owner_country', 'owner_latitude', 'owner_longitude',\n",
    "       'clean_home_port', 'home_port_providence_state',\n",
    "       'home_port_country', 'home_port_latitude', 'home_port_longitude']]\n",
    "\n",
    "# rename some columns\n",
    "merged.columns = ['flag', 'vessel_name', 'fishing_hours', 'fishing_area',\n",
    "       'owner', 'vessel_type', 'owner_address', 'owner_providence_state',\n",
    "       'owner_country', 'owner_latitude', 'owner_longitude',\n",
    "       'home_port_name', 'home_port_providence_state',\n",
    "       'home_port_country', 'home_port_latitude', 'home_port_longitude']\n",
    "\n",
    "print(merged.head())\n",
    "\n",
    "# save to a file\n",
    "merged.to_csv(\"../data/geo_ais_rfv_all.csv\", index=False)"
   ]
  }
 ],
 "metadata": {
  "kernelspec": {
   "display_name": "dsan6400",
   "language": "python",
   "name": "python3"
  },
  "language_info": {
   "codemirror_mode": {
    "name": "ipython",
    "version": 3
   },
   "file_extension": ".py",
   "mimetype": "text/x-python",
   "name": "python",
   "nbconvert_exporter": "python",
   "pygments_lexer": "ipython3",
   "version": "3.13.5"
  }
 },
 "nbformat": 4,
 "nbformat_minor": 5
}
