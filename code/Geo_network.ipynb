{
 "cells": [
  {
   "cell_type": "markdown",
   "id": "af88ff3b",
   "metadata": {},
   "source": [
    "# Georgraphic Rendering of Network\n",
    "\n"
   ]
  },
  {
   "cell_type": "code",
   "execution_count": 118,
   "id": "8401c480",
   "metadata": {},
   "outputs": [],
   "source": [
    "import contextily as cx\n",
    "import matplotlib.pyplot as plt\n",
    "from shapely.geometry import Point\n",
    "import networkx as nx\n",
    "import numpy as np\n",
    "import geopandas as gpd\n",
    "import os\n",
    "import pandas as pd"
   ]
  },
  {
   "cell_type": "markdown",
   "id": "3322f617",
   "metadata": {},
   "source": [
    "First we will get the Centroids of the EEZs. \n",
    "\n",
    "The EEZ shapefiles are from: Maritime Boundaries Geodatabase: Maritime Boundaries and Exclusive Economic Zones (200NM), version 12"
   ]
  },
  {
   "cell_type": "code",
   "execution_count": null,
   "id": "d41e18a5",
   "metadata": {},
   "outputs": [],
   "source": [
    "input_shapefile = \"geo_files/World_EEZ_v12_20231025_0_360/eez_v12_0_360.gpkg\"\n",
    "output_centroids = \"geo_files/EEZ_centroids.gpkg\"\n",
    "\n",
    "# read World EEZs\n",
    "eezs = gpd.read_file(input_shapefile)"
   ]
  },
  {
   "cell_type": "code",
   "execution_count": null,
   "id": "b52a249e",
   "metadata": {},
   "outputs": [
    {
     "name": "stdout",
     "output_type": "stream",
     "text": [
      "     MRGID                                            GEONAME  MRGID_TER1  \\\n",
      "8     8448                     Tongan Exclusive Economic Zone      8674.0   \n",
      "20    8450   Kiribati Exclusive Economic Zone (Phoenix Group)      8658.0   \n",
      "37    8313                  Vanuatuan Exclusive Economic Zone      2202.0   \n",
      "47    8314            Solomon Islands Exclusive Economic Zone      8593.0   \n",
      "192  48957       United States Exclusive Economic Zone (Guam)      8599.0   \n",
      "193   8318                Marshallese Exclusive Economic Zone      2226.0   \n",
      "194  48980  United States Exclusive Economic Zone (Norther...      8598.0   \n",
      "195   8315                    Palauan Exclusive Economic Zone      8594.0   \n",
      "243   8326                   Tuvaluan Exclusive Economic Zone      2210.0   \n",
      "246   8325                     Fijian Exclusive Economic Zone      2108.0   \n",
      "249   8488  Kiribati Exclusive Economic Zone (Gilbert Isla...     17597.0   \n",
      "253   8316                Micronesian Exclusive Economic Zone      8595.0   \n",
      "256   8324          Papua New Guinean Exclusive Economic Zone      2237.0   \n",
      "258   8317                    Nauruan Exclusive Economic Zone      8596.0   \n",
      "\n",
      "    POL_TYPE  MRGID_SOV1                TERRITORY1 ISO_TER1        SOVEREIGN1  \\\n",
      "8      200NM        8674                     Tonga      TON             Tonga   \n",
      "20     200NM        2116             Phoenix Group      KIR          Kiribati   \n",
      "37     200NM        2202                   Vanuatu      VUT           Vanuatu   \n",
      "47     200NM        8593           Solomon Islands      SLB   Solomon Islands   \n",
      "192    200NM        2204                      Guam      GUM     United States   \n",
      "193    200NM        2226          Marshall Islands      MHL  Marshall Islands   \n",
      "194    200NM        2204  Northern Mariana Islands      MNP     United States   \n",
      "195    200NM        8594                     Palau      PLW             Palau   \n",
      "243    200NM        2210                    Tuvalu      TUV            Tuvalu   \n",
      "246    200NM        2108                      Fiji      FJI              Fiji   \n",
      "249    200NM        2116           Gilbert Islands      KIR          Kiribati   \n",
      "253    200NM        8595                Micronesia      FSM        Micronesia   \n",
      "256    200NM        2237          Papua New Guinea      PNG  Papua New Guinea   \n",
      "258    200NM        8596                     Nauru      NRU             Nauru   \n",
      "\n",
      "     MRGID_TER2  MRGID_SOV2  ... ISO_SOV1 ISO_SOV2 ISO_SOV3  UN_SOV1  UN_SOV2  \\\n",
      "8           NaN         NaN  ...      TON     None     None      776      NaN   \n",
      "20          NaN         NaN  ...      KIR     None     None      296      NaN   \n",
      "37          NaN         NaN  ...      VUT     None     None      548      NaN   \n",
      "47          NaN         NaN  ...      SLB     None     None       90      NaN   \n",
      "192         NaN         NaN  ...      USA     None     None      840      NaN   \n",
      "193         NaN         NaN  ...      MHL     None     None      584      NaN   \n",
      "194         NaN         NaN  ...      USA     None     None      840      NaN   \n",
      "195         NaN         NaN  ...      PLW     None     None      585      NaN   \n",
      "243         NaN         NaN  ...      TUV     None     None      798      NaN   \n",
      "246         NaN         NaN  ...      FJI     None     None      242      NaN   \n",
      "249         NaN         NaN  ...      KIR     None     None      296      NaN   \n",
      "253         NaN         NaN  ...      FSM     None     None      583      NaN   \n",
      "256         NaN         NaN  ...      PNG     None     None      598      NaN   \n",
      "258         NaN         NaN  ...      NRU     None     None      520      NaN   \n",
      "\n",
      "    UN_SOV3 UN_TER1 UN_TER2  UN_TER3  \\\n",
      "8       NaN   776.0     NaN      NaN   \n",
      "20      NaN   296.0     NaN      NaN   \n",
      "37      NaN   548.0     NaN      NaN   \n",
      "47      NaN    90.0     NaN      NaN   \n",
      "192     NaN   316.0     NaN      NaN   \n",
      "193     NaN   584.0     NaN      NaN   \n",
      "194     NaN   580.0     NaN      NaN   \n",
      "195     NaN   585.0     NaN      NaN   \n",
      "243     NaN   798.0     NaN      NaN   \n",
      "246     NaN   242.0     NaN      NaN   \n",
      "249     NaN   296.0     NaN      NaN   \n",
      "253     NaN   583.0     NaN      NaN   \n",
      "256     NaN   598.0     NaN      NaN   \n",
      "258     NaN   520.0     NaN      NaN   \n",
      "\n",
      "                                              geometry  \n",
      "8    MULTIPOLYGON (((188.19885 -15.9608, 188.29987 ...  \n",
      "20   MULTIPOLYGON (((191.09069 -6.88147, 189.42906 ...  \n",
      "37   MULTIPOLYGON (((166.92681 -12.43945, 166.92766...  \n",
      "47   MULTIPOLYGON (((163.06402 -5.03192, 163.13397 ...  \n",
      "192  MULTIPOLYGON (((148.07609 12.22555, 148.07548 ...  \n",
      "193  MULTIPOLYGON (((157.46054 10.42689, 157.46076 ...  \n",
      "194  MULTIPOLYGON (((148.07602 12.22849, 147.08061 ...  \n",
      "195  MULTIPOLYGON (((134.71878 11.55828, 134.7686 1...  \n",
      "243  MULTIPOLYGON (((179.85208 -13.03436, 179.70772...  \n",
      "246  MULTIPOLYGON (((181.50515 -15.29552, 181.51987...  \n",
      "249  MULTIPOLYGON (((180.0087 -1.60903, 180.01353 -...  \n",
      "253  MULTIPOLYGON (((137.48862 8.29626, 137.48754 8...  \n",
      "256  MULTIPOLYGON (((151.41168 1.63175, 151.42446 1...  \n",
      "258  MULTIPOLYGON (((168.24006 -0.68735, 168.20449 ...  \n",
      "\n",
      "[14 rows x 32 columns]\n"
     ]
    }
   ],
   "source": [
    "# filter for the EEZs we have data for\n",
    "west_pac = ['United States Exclusive Economic Zone (Guam)', 'United States Exclusive Economic Zone (Northern Mariana Islands)',\n",
    "            'Kiribati Exclusive Economic Zone (Phoenix Group)', 'Vanuatuan Exclusive Economic Zone', 'Solomon Islands Exclusive Economic Zone',\n",
    "            'Fijian Exclusive Economic Zone', 'Kiribati Exclusive Economic Zone (Gilbert Islands)', 'Micronesian Exclusive Economic Zone', \n",
    "            'Papua New Guinean Exclusive Economic Zone', 'Nauruan Exclusive Economic Zone','Palauan Exclusive Economic Zone',\n",
    "             'Marshallese Exclusive Economic Zone', 'Tongan Exclusive Economic Zone', 'Tuvaluan Exclusive Economic Zone' ]\n",
    "eezs = eezs[eezs['GEONAME'].isin(west_pac)]\n",
    "\n",
    "print(eezs.head(15))"
   ]
  },
  {
   "cell_type": "code",
   "execution_count": 49,
   "id": "6bffb625",
   "metadata": {},
   "outputs": [
    {
     "name": "stdout",
     "output_type": "stream",
     "text": [
      "                                               GEONAME  \\\n",
      "8                       Tongan Exclusive Economic Zone   \n",
      "20    Kiribati Exclusive Economic Zone (Phoenix Group)   \n",
      "37                   Vanuatuan Exclusive Economic Zone   \n",
      "47             Solomon Islands Exclusive Economic Zone   \n",
      "192       United States Exclusive Economic Zone (Guam)   \n",
      "193                Marshallese Exclusive Economic Zone   \n",
      "194  United States Exclusive Economic Zone (Norther...   \n",
      "195                    Palauan Exclusive Economic Zone   \n",
      "243                   Tuvaluan Exclusive Economic Zone   \n",
      "246                     Fijian Exclusive Economic Zone   \n",
      "249  Kiribati Exclusive Economic Zone (Gilbert Isla...   \n",
      "253                Micronesian Exclusive Economic Zone   \n",
      "256          Papua New Guinean Exclusive Economic Zone   \n",
      "258                    Nauruan Exclusive Economic Zone   \n",
      "\n",
      "                        geometry  \n",
      "8    POINT (185.23414 -20.22175)  \n",
      "20    POINT (187.54603 -3.73181)  \n",
      "37   POINT (168.55743 -16.58523)  \n",
      "47   POINT (163.68539 -10.04465)  \n",
      "192   POINT (144.00261 12.92958)  \n",
      "193   POINT (167.48547 10.15136)  \n",
      "194    POINT (145.73933 18.2866)  \n",
      "195     POINT (133.0695 6.44393)  \n",
      "243   POINT (178.18288 -7.81254)  \n",
      "246  POINT (177.68935 -17.94847)  \n",
      "249   POINT (173.88789 -0.25912)  \n",
      "253    POINT (150.32248 6.76843)  \n",
      "256   POINT (150.71973 -5.45663)  \n",
      "258   POINT (166.12396 -0.59113)  \n"
     ]
    },
    {
     "name": "stderr",
     "output_type": "stream",
     "text": [
      "/var/folders/9r/1lhfzshj5bvf1d4ybbng0kr00000gn/T/ipykernel_4937/287590102.py:3: UserWarning: Geometry is in a geographic CRS. Results from 'centroid' are likely incorrect. Use 'GeoSeries.to_crs()' to re-project geometries to a projected CRS before this operation.\n",
      "\n",
      "  eez_centroids['geometry'] = eez_centroids['geometry'].centroid\n"
     ]
    }
   ],
   "source": [
    "# find centroids and write to a file\n",
    "eez_centroids = eezs[['GEONAME','geometry']].copy()\n",
    "eez_centroids['geometry'] = eez_centroids['geometry'].centroid\n",
    "\n",
    "eez_centroids.to_file(output_centroids)\n",
    "print(eez_centroids.head(20))"
   ]
  },
  {
   "cell_type": "markdown",
   "id": "558e4153",
   "metadata": {},
   "source": [
    "Now we will add in the geometries from the High Seas Pockets"
   ]
  },
  {
   "cell_type": "code",
   "execution_count": 85,
   "id": "5eb7fb4e",
   "metadata": {},
   "outputs": [
    {
     "name": "stdout",
     "output_type": "stream",
     "text": [
      "EPSG:4326\n",
      "EPSG:4326\n"
     ]
    }
   ],
   "source": [
    "# Check the Coordinate Reference Systems\n",
    "file = 'geo_files/HSP_geos/hps3_geometry.geojson'\n",
    "test = gpd.read_file(file)\n",
    "\n",
    "print(test.crs)\n",
    "\n",
    "print(eez_centroids.crs)"
   ]
  },
  {
   "cell_type": "code",
   "execution_count": 72,
   "id": "4343abe5",
   "metadata": {},
   "outputs": [
    {
     "name": "stdout",
     "output_type": "stream",
     "text": [
      "              GEONAME                     geometry\n",
      "0  High Seas Pocket 6  POINT (-165.39579 -4.88687)\n",
      "1  High Seas Pocket 2    POINT (142.87993 3.05822)\n",
      "2  High Seas Pocket 3   POINT (155.95434 16.04416)\n",
      "3  High Seas Pocket 7   POINT (-164.5541 -4.16105)\n",
      "4  High Seas Pocket 5  POINT (173.01948 -15.37524)\n",
      "5  High Seas Pocket 4   POINT (165.92438 -3.38587)\n",
      "6  High Seas Pocket 1   POINT (133.26613 16.03818)\n"
     ]
    },
    {
     "name": "stderr",
     "output_type": "stream",
     "text": [
      "/var/folders/9r/1lhfzshj5bvf1d4ybbng0kr00000gn/T/ipykernel_4937/3066690805.py:16: UserWarning: Geometry is in a geographic CRS. Results from 'centroid' are likely incorrect. Use 'GeoSeries.to_crs()' to re-project geometries to a projected CRS before this operation.\n",
      "\n",
      "  hsp['geometry'] = hsp['geometry'].centroid\n",
      "/var/folders/9r/1lhfzshj5bvf1d4ybbng0kr00000gn/T/ipykernel_4937/3066690805.py:16: UserWarning: Geometry is in a geographic CRS. Results from 'centroid' are likely incorrect. Use 'GeoSeries.to_crs()' to re-project geometries to a projected CRS before this operation.\n",
      "\n",
      "  hsp['geometry'] = hsp['geometry'].centroid\n",
      "/var/folders/9r/1lhfzshj5bvf1d4ybbng0kr00000gn/T/ipykernel_4937/3066690805.py:16: UserWarning: Geometry is in a geographic CRS. Results from 'centroid' are likely incorrect. Use 'GeoSeries.to_crs()' to re-project geometries to a projected CRS before this operation.\n",
      "\n",
      "  hsp['geometry'] = hsp['geometry'].centroid\n",
      "/var/folders/9r/1lhfzshj5bvf1d4ybbng0kr00000gn/T/ipykernel_4937/3066690805.py:16: UserWarning: Geometry is in a geographic CRS. Results from 'centroid' are likely incorrect. Use 'GeoSeries.to_crs()' to re-project geometries to a projected CRS before this operation.\n",
      "\n",
      "  hsp['geometry'] = hsp['geometry'].centroid\n",
      "/var/folders/9r/1lhfzshj5bvf1d4ybbng0kr00000gn/T/ipykernel_4937/3066690805.py:16: UserWarning: Geometry is in a geographic CRS. Results from 'centroid' are likely incorrect. Use 'GeoSeries.to_crs()' to re-project geometries to a projected CRS before this operation.\n",
      "\n",
      "  hsp['geometry'] = hsp['geometry'].centroid\n",
      "/var/folders/9r/1lhfzshj5bvf1d4ybbng0kr00000gn/T/ipykernel_4937/3066690805.py:16: UserWarning: Geometry is in a geographic CRS. Results from 'centroid' are likely incorrect. Use 'GeoSeries.to_crs()' to re-project geometries to a projected CRS before this operation.\n",
      "\n",
      "  hsp['geometry'] = hsp['geometry'].centroid\n",
      "/var/folders/9r/1lhfzshj5bvf1d4ybbng0kr00000gn/T/ipykernel_4937/3066690805.py:16: UserWarning: Geometry is in a geographic CRS. Results from 'centroid' are likely incorrect. Use 'GeoSeries.to_crs()' to re-project geometries to a projected CRS before this operation.\n",
      "\n",
      "  hsp['geometry'] = hsp['geometry'].centroid\n"
     ]
    }
   ],
   "source": [
    "# folder of geojsons\n",
    "hsp_path = 'geo_files/HSP_geos/'\n",
    "\n",
    "# init file to hold geometries\n",
    "hsp_centroids = gpd.GeoDataFrame()\n",
    "\n",
    "# loop through the files to combine to one dataframe\n",
    "for file in os.listdir(hsp_path):\n",
    "    # update name\n",
    "    hsp = gpd.read_file(hsp_path+file)\n",
    "    hsp_num = str(file)[3:4]\n",
    "    hsp_name = \"High Seas Pocket \"+hsp_num\n",
    "    hsp.columns = ['GEONAME','geometry']\n",
    "    hsp['GEONAME'] = hsp_name\n",
    "    # find the centroids\n",
    "    hsp['geometry'] = hsp['geometry'].centroid\n",
    "    # add to data frame\n",
    "    hsp_centroids = pd.concat([hsp_centroids, hsp], ignore_index=True)\n",
    "\n",
    "print(hsp_centroids.head(10))\n"
   ]
  },
  {
   "cell_type": "code",
   "execution_count": 74,
   "id": "ea0200e9",
   "metadata": {},
   "outputs": [
    {
     "name": "stdout",
     "output_type": "stream",
     "text": [
      "                                              GEONAME  \\\n",
      "0                                  High Seas Pocket 6   \n",
      "1                                  High Seas Pocket 2   \n",
      "2                                  High Seas Pocket 3   \n",
      "3                                  High Seas Pocket 7   \n",
      "4                                  High Seas Pocket 5   \n",
      "5                                  High Seas Pocket 4   \n",
      "6                                  High Seas Pocket 1   \n",
      "7                      Tongan Exclusive Economic Zone   \n",
      "8    Kiribati Exclusive Economic Zone (Phoenix Group)   \n",
      "9                   Vanuatuan Exclusive Economic Zone   \n",
      "10            Solomon Islands Exclusive Economic Zone   \n",
      "11       United States Exclusive Economic Zone (Guam)   \n",
      "12                Marshallese Exclusive Economic Zone   \n",
      "13  United States Exclusive Economic Zone (Norther...   \n",
      "14                    Palauan Exclusive Economic Zone   \n",
      "15                   Tuvaluan Exclusive Economic Zone   \n",
      "16                     Fijian Exclusive Economic Zone   \n",
      "17  Kiribati Exclusive Economic Zone (Gilbert Isla...   \n",
      "18                Micronesian Exclusive Economic Zone   \n",
      "19          Papua New Guinean Exclusive Economic Zone   \n",
      "\n",
      "                       geometry  \n",
      "0   POINT (-165.39579 -4.88687)  \n",
      "1     POINT (142.87993 3.05822)  \n",
      "2    POINT (155.95434 16.04416)  \n",
      "3    POINT (-164.5541 -4.16105)  \n",
      "4   POINT (173.01948 -15.37524)  \n",
      "5    POINT (165.92438 -3.38587)  \n",
      "6    POINT (133.26613 16.03818)  \n",
      "7   POINT (185.23414 -20.22175)  \n",
      "8    POINT (187.54603 -3.73181)  \n",
      "9   POINT (168.55743 -16.58523)  \n",
      "10  POINT (163.68539 -10.04465)  \n",
      "11   POINT (144.00261 12.92958)  \n",
      "12   POINT (167.48547 10.15136)  \n",
      "13    POINT (145.73933 18.2866)  \n",
      "14     POINT (133.0695 6.44393)  \n",
      "15   POINT (178.18288 -7.81254)  \n",
      "16  POINT (177.68935 -17.94847)  \n",
      "17   POINT (173.88789 -0.25912)  \n",
      "18    POINT (150.32248 6.76843)  \n",
      "19   POINT (150.71973 -5.45663)  \n"
     ]
    }
   ],
   "source": [
    "# combine the two files together and save again\n",
    "\n",
    "all_centroids = pd.concat([hsp_centroids, eez_centroids], ignore_index=True)\n",
    "\n",
    "all_centroids.to_file(output_centroids)\n",
    "\n",
    "print(all_centroids.head(20))"
   ]
  },
  {
   "cell_type": "markdown",
   "id": "5995c1d5",
   "metadata": {},
   "source": [
    "# Mapping\n",
    "\n",
    "Now map the centroids"
   ]
  },
  {
   "cell_type": "code",
   "execution_count": 96,
   "id": "56440ea0",
   "metadata": {},
   "outputs": [
    {
     "name": "stdout",
     "output_type": "stream",
     "text": [
      "(21, 3)\n"
     ]
    }
   ],
   "source": [
    "centroids = gpd.read_file(output_centroids)\n",
    "centroids = centroids.to_crs(\"ESRI:54030\")\n",
    "\n",
    "# construct the array of coordinates for the centroid\n",
    "coordinates = np.column_stack((centroids.GEONAME, centroids.geometry.x, centroids.geometry.y))\n",
    "print(coordinates.shape)"
   ]
  },
  {
   "cell_type": "code",
   "execution_count": 121,
   "id": "c659133f",
   "metadata": {},
   "outputs": [
    {
     "ename": "DataSourceError",
     "evalue": "Unable to open geo_files/ne_110m_admin_0_countries.shx or geo_files/ne_110m_admin_0_countries.SHX. Set SHAPE_RESTORE_SHX config option to YES to restore or create it.",
     "output_type": "error",
     "traceback": [
      "\u001b[31m---------------------------------------------------------------------------\u001b[39m",
      "\u001b[31mDataSourceError\u001b[39m                           Traceback (most recent call last)",
      "\u001b[36mCell\u001b[39m\u001b[36m \u001b[39m\u001b[32mIn[121]\u001b[39m\u001b[32m, line 16\u001b[39m\n\u001b[32m     12\u001b[39m gdf = gdf.set_geometry(\u001b[33m'\u001b[39m\u001b[33mgeometry_shifted\u001b[39m\u001b[33m'\u001b[39m)\n\u001b[32m     15\u001b[39m \u001b[38;5;66;03m# Replace with the actual path to your downloaded shapefile\u001b[39;00m\n\u001b[32m---> \u001b[39m\u001b[32m16\u001b[39m world = \u001b[43mgpd\u001b[49m\u001b[43m.\u001b[49m\u001b[43mread_file\u001b[49m\u001b[43m(\u001b[49m\u001b[33;43m\"\u001b[39;49m\u001b[33;43mgeo_files/ne_110m_admin_0_countries.shp\u001b[39;49m\u001b[33;43m\"\u001b[39;49m\u001b[43m)\u001b[49m\n\u001b[32m     18\u001b[39m fig, ax = plt.subplots(figsize=(\u001b[32m12\u001b[39m, \u001b[32m6\u001b[39m))\n\u001b[32m     19\u001b[39m world.plot(ax=ax, color=\u001b[33m'\u001b[39m\u001b[33mlightgrey\u001b[39m\u001b[33m'\u001b[39m, edgecolor=\u001b[33m'\u001b[39m\u001b[33mblack\u001b[39m\u001b[33m'\u001b[39m)\n",
      "\u001b[36mFile \u001b[39m\u001b[32m~/miniconda3/envs/dsan6400/lib/python3.13/site-packages/geopandas/io/file.py:316\u001b[39m, in \u001b[36m_read_file\u001b[39m\u001b[34m(filename, bbox, mask, columns, rows, engine, **kwargs)\u001b[39m\n\u001b[32m    313\u001b[39m             filename = response.read()\n\u001b[32m    315\u001b[39m \u001b[38;5;28;01mif\u001b[39;00m engine == \u001b[33m\"\u001b[39m\u001b[33mpyogrio\u001b[39m\u001b[33m\"\u001b[39m:\n\u001b[32m--> \u001b[39m\u001b[32m316\u001b[39m     \u001b[38;5;28;01mreturn\u001b[39;00m \u001b[43m_read_file_pyogrio\u001b[49m\u001b[43m(\u001b[49m\n\u001b[32m    317\u001b[39m \u001b[43m        \u001b[49m\u001b[43mfilename\u001b[49m\u001b[43m,\u001b[49m\u001b[43m \u001b[49m\u001b[43mbbox\u001b[49m\u001b[43m=\u001b[49m\u001b[43mbbox\u001b[49m\u001b[43m,\u001b[49m\u001b[43m \u001b[49m\u001b[43mmask\u001b[49m\u001b[43m=\u001b[49m\u001b[43mmask\u001b[49m\u001b[43m,\u001b[49m\u001b[43m \u001b[49m\u001b[43mcolumns\u001b[49m\u001b[43m=\u001b[49m\u001b[43mcolumns\u001b[49m\u001b[43m,\u001b[49m\u001b[43m \u001b[49m\u001b[43mrows\u001b[49m\u001b[43m=\u001b[49m\u001b[43mrows\u001b[49m\u001b[43m,\u001b[49m\u001b[43m \u001b[49m\u001b[43m*\u001b[49m\u001b[43m*\u001b[49m\u001b[43mkwargs\u001b[49m\n\u001b[32m    318\u001b[39m \u001b[43m    \u001b[49m\u001b[43m)\u001b[49m\n\u001b[32m    320\u001b[39m \u001b[38;5;28;01melif\u001b[39;00m engine == \u001b[33m\"\u001b[39m\u001b[33mfiona\u001b[39m\u001b[33m\"\u001b[39m:\n\u001b[32m    321\u001b[39m     \u001b[38;5;28;01mif\u001b[39;00m pd.api.types.is_file_like(filename):\n",
      "\u001b[36mFile \u001b[39m\u001b[32m~/miniconda3/envs/dsan6400/lib/python3.13/site-packages/geopandas/io/file.py:576\u001b[39m, in \u001b[36m_read_file_pyogrio\u001b[39m\u001b[34m(path_or_bytes, bbox, mask, rows, **kwargs)\u001b[39m\n\u001b[32m    567\u001b[39m     warnings.warn(\n\u001b[32m    568\u001b[39m         \u001b[33m\"\u001b[39m\u001b[33mThe \u001b[39m\u001b[33m'\u001b[39m\u001b[33minclude_fields\u001b[39m\u001b[33m'\u001b[39m\u001b[33m and \u001b[39m\u001b[33m'\u001b[39m\u001b[33mignore_fields\u001b[39m\u001b[33m'\u001b[39m\u001b[33m keywords are deprecated, and \u001b[39m\u001b[33m\"\u001b[39m\n\u001b[32m    569\u001b[39m         \u001b[33m\"\u001b[39m\u001b[33mwill be removed in a future release. You can use the \u001b[39m\u001b[33m'\u001b[39m\u001b[33mcolumns\u001b[39m\u001b[33m'\u001b[39m\u001b[33m keyword \u001b[39m\u001b[33m\"\u001b[39m\n\u001b[32m   (...)\u001b[39m\u001b[32m    572\u001b[39m         stacklevel=\u001b[32m3\u001b[39m,\n\u001b[32m    573\u001b[39m     )\n\u001b[32m    574\u001b[39m     kwargs[\u001b[33m\"\u001b[39m\u001b[33mcolumns\u001b[39m\u001b[33m\"\u001b[39m] = kwargs.pop(\u001b[33m\"\u001b[39m\u001b[33minclude_fields\u001b[39m\u001b[33m\"\u001b[39m)\n\u001b[32m--> \u001b[39m\u001b[32m576\u001b[39m \u001b[38;5;28;01mreturn\u001b[39;00m \u001b[43mpyogrio\u001b[49m\u001b[43m.\u001b[49m\u001b[43mread_dataframe\u001b[49m\u001b[43m(\u001b[49m\u001b[43mpath_or_bytes\u001b[49m\u001b[43m,\u001b[49m\u001b[43m \u001b[49m\u001b[43mbbox\u001b[49m\u001b[43m=\u001b[49m\u001b[43mbbox\u001b[49m\u001b[43m,\u001b[49m\u001b[43m \u001b[49m\u001b[43m*\u001b[49m\u001b[43m*\u001b[49m\u001b[43mkwargs\u001b[49m\u001b[43m)\u001b[49m\n",
      "\u001b[36mFile \u001b[39m\u001b[32m~/miniconda3/envs/dsan6400/lib/python3.13/site-packages/pyogrio/geopandas.py:275\u001b[39m, in \u001b[36mread_dataframe\u001b[39m\u001b[34m(path_or_buffer, layer, encoding, columns, read_geometry, force_2d, skip_features, max_features, where, bbox, mask, fids, sql, sql_dialect, fid_as_index, use_arrow, on_invalid, arrow_to_pandas_kwargs, **kwargs)\u001b[39m\n\u001b[32m    270\u001b[39m \u001b[38;5;28;01mif\u001b[39;00m \u001b[38;5;129;01mnot\u001b[39;00m use_arrow:\n\u001b[32m    271\u001b[39m     \u001b[38;5;66;03m# For arrow, datetimes are read as is.\u001b[39;00m\n\u001b[32m    272\u001b[39m     \u001b[38;5;66;03m# For numpy IO, datetimes are read as string values to preserve timezone info\u001b[39;00m\n\u001b[32m    273\u001b[39m     \u001b[38;5;66;03m# as numpy does not directly support timezones.\u001b[39;00m\n\u001b[32m    274\u001b[39m     kwargs[\u001b[33m\"\u001b[39m\u001b[33mdatetime_as_string\u001b[39m\u001b[33m\"\u001b[39m] = \u001b[38;5;28;01mTrue\u001b[39;00m\n\u001b[32m--> \u001b[39m\u001b[32m275\u001b[39m result = \u001b[43mread_func\u001b[49m\u001b[43m(\u001b[49m\n\u001b[32m    276\u001b[39m \u001b[43m    \u001b[49m\u001b[43mpath_or_buffer\u001b[49m\u001b[43m,\u001b[49m\n\u001b[32m    277\u001b[39m \u001b[43m    \u001b[49m\u001b[43mlayer\u001b[49m\u001b[43m=\u001b[49m\u001b[43mlayer\u001b[49m\u001b[43m,\u001b[49m\n\u001b[32m    278\u001b[39m \u001b[43m    \u001b[49m\u001b[43mencoding\u001b[49m\u001b[43m=\u001b[49m\u001b[43mencoding\u001b[49m\u001b[43m,\u001b[49m\n\u001b[32m    279\u001b[39m \u001b[43m    \u001b[49m\u001b[43mcolumns\u001b[49m\u001b[43m=\u001b[49m\u001b[43mcolumns\u001b[49m\u001b[43m,\u001b[49m\n\u001b[32m    280\u001b[39m \u001b[43m    \u001b[49m\u001b[43mread_geometry\u001b[49m\u001b[43m=\u001b[49m\u001b[43mread_geometry\u001b[49m\u001b[43m,\u001b[49m\n\u001b[32m    281\u001b[39m \u001b[43m    \u001b[49m\u001b[43mforce_2d\u001b[49m\u001b[43m=\u001b[49m\u001b[43mgdal_force_2d\u001b[49m\u001b[43m,\u001b[49m\n\u001b[32m    282\u001b[39m \u001b[43m    \u001b[49m\u001b[43mskip_features\u001b[49m\u001b[43m=\u001b[49m\u001b[43mskip_features\u001b[49m\u001b[43m,\u001b[49m\n\u001b[32m    283\u001b[39m \u001b[43m    \u001b[49m\u001b[43mmax_features\u001b[49m\u001b[43m=\u001b[49m\u001b[43mmax_features\u001b[49m\u001b[43m,\u001b[49m\n\u001b[32m    284\u001b[39m \u001b[43m    \u001b[49m\u001b[43mwhere\u001b[49m\u001b[43m=\u001b[49m\u001b[43mwhere\u001b[49m\u001b[43m,\u001b[49m\n\u001b[32m    285\u001b[39m \u001b[43m    \u001b[49m\u001b[43mbbox\u001b[49m\u001b[43m=\u001b[49m\u001b[43mbbox\u001b[49m\u001b[43m,\u001b[49m\n\u001b[32m    286\u001b[39m \u001b[43m    \u001b[49m\u001b[43mmask\u001b[49m\u001b[43m=\u001b[49m\u001b[43mmask\u001b[49m\u001b[43m,\u001b[49m\n\u001b[32m    287\u001b[39m \u001b[43m    \u001b[49m\u001b[43mfids\u001b[49m\u001b[43m=\u001b[49m\u001b[43mfids\u001b[49m\u001b[43m,\u001b[49m\n\u001b[32m    288\u001b[39m \u001b[43m    \u001b[49m\u001b[43msql\u001b[49m\u001b[43m=\u001b[49m\u001b[43msql\u001b[49m\u001b[43m,\u001b[49m\n\u001b[32m    289\u001b[39m \u001b[43m    \u001b[49m\u001b[43msql_dialect\u001b[49m\u001b[43m=\u001b[49m\u001b[43msql_dialect\u001b[49m\u001b[43m,\u001b[49m\n\u001b[32m    290\u001b[39m \u001b[43m    \u001b[49m\u001b[43mreturn_fids\u001b[49m\u001b[43m=\u001b[49m\u001b[43mfid_as_index\u001b[49m\u001b[43m,\u001b[49m\n\u001b[32m    291\u001b[39m \u001b[43m    \u001b[49m\u001b[43m*\u001b[49m\u001b[43m*\u001b[49m\u001b[43mkwargs\u001b[49m\u001b[43m,\u001b[49m\n\u001b[32m    292\u001b[39m \u001b[43m\u001b[49m\u001b[43m)\u001b[49m\n\u001b[32m    294\u001b[39m \u001b[38;5;28;01mif\u001b[39;00m use_arrow:\n\u001b[32m    295\u001b[39m     \u001b[38;5;28;01mimport\u001b[39;00m\u001b[38;5;250m \u001b[39m\u001b[34;01mpyarrow\u001b[39;00m\u001b[38;5;250m \u001b[39m\u001b[38;5;28;01mas\u001b[39;00m\u001b[38;5;250m \u001b[39m\u001b[34;01mpa\u001b[39;00m\n",
      "\u001b[36mFile \u001b[39m\u001b[32m~/miniconda3/envs/dsan6400/lib/python3.13/site-packages/pyogrio/raw.py:198\u001b[39m, in \u001b[36mread\u001b[39m\u001b[34m(path_or_buffer, layer, encoding, columns, read_geometry, force_2d, skip_features, max_features, where, bbox, mask, fids, sql, sql_dialect, return_fids, datetime_as_string, **kwargs)\u001b[39m\n\u001b[32m     59\u001b[39m \u001b[38;5;250m\u001b[39m\u001b[33;03m\"\"\"Read OGR data source into numpy arrays.\u001b[39;00m\n\u001b[32m     60\u001b[39m \n\u001b[32m     61\u001b[39m \u001b[33;03mIMPORTANT: non-linear geometry types (e.g., MultiSurface) are converted\u001b[39;00m\n\u001b[32m   (...)\u001b[39m\u001b[32m    194\u001b[39m \n\u001b[32m    195\u001b[39m \u001b[33;03m\"\"\"\u001b[39;00m\n\u001b[32m    196\u001b[39m dataset_kwargs = _preprocess_options_key_value(kwargs) \u001b[38;5;28;01mif\u001b[39;00m kwargs \u001b[38;5;28;01melse\u001b[39;00m {}\n\u001b[32m--> \u001b[39m\u001b[32m198\u001b[39m \u001b[38;5;28;01mreturn\u001b[39;00m \u001b[43mogr_read\u001b[49m\u001b[43m(\u001b[49m\n\u001b[32m    199\u001b[39m \u001b[43m    \u001b[49m\u001b[43mget_vsi_path_or_buffer\u001b[49m\u001b[43m(\u001b[49m\u001b[43mpath_or_buffer\u001b[49m\u001b[43m)\u001b[49m\u001b[43m,\u001b[49m\n\u001b[32m    200\u001b[39m \u001b[43m    \u001b[49m\u001b[43mlayer\u001b[49m\u001b[43m=\u001b[49m\u001b[43mlayer\u001b[49m\u001b[43m,\u001b[49m\n\u001b[32m    201\u001b[39m \u001b[43m    \u001b[49m\u001b[43mencoding\u001b[49m\u001b[43m=\u001b[49m\u001b[43mencoding\u001b[49m\u001b[43m,\u001b[49m\n\u001b[32m    202\u001b[39m \u001b[43m    \u001b[49m\u001b[43mcolumns\u001b[49m\u001b[43m=\u001b[49m\u001b[43mcolumns\u001b[49m\u001b[43m,\u001b[49m\n\u001b[32m    203\u001b[39m \u001b[43m    \u001b[49m\u001b[43mread_geometry\u001b[49m\u001b[43m=\u001b[49m\u001b[43mread_geometry\u001b[49m\u001b[43m,\u001b[49m\n\u001b[32m    204\u001b[39m \u001b[43m    \u001b[49m\u001b[43mforce_2d\u001b[49m\u001b[43m=\u001b[49m\u001b[43mforce_2d\u001b[49m\u001b[43m,\u001b[49m\n\u001b[32m    205\u001b[39m \u001b[43m    \u001b[49m\u001b[43mskip_features\u001b[49m\u001b[43m=\u001b[49m\u001b[43mskip_features\u001b[49m\u001b[43m,\u001b[49m\n\u001b[32m    206\u001b[39m \u001b[43m    \u001b[49m\u001b[43mmax_features\u001b[49m\u001b[43m=\u001b[49m\u001b[43mmax_features\u001b[49m\u001b[43m \u001b[49m\u001b[38;5;129;43;01mor\u001b[39;49;00m\u001b[43m \u001b[49m\u001b[32;43m0\u001b[39;49m\u001b[43m,\u001b[49m\n\u001b[32m    207\u001b[39m \u001b[43m    \u001b[49m\u001b[43mwhere\u001b[49m\u001b[43m=\u001b[49m\u001b[43mwhere\u001b[49m\u001b[43m,\u001b[49m\n\u001b[32m    208\u001b[39m \u001b[43m    \u001b[49m\u001b[43mbbox\u001b[49m\u001b[43m=\u001b[49m\u001b[43mbbox\u001b[49m\u001b[43m,\u001b[49m\n\u001b[32m    209\u001b[39m \u001b[43m    \u001b[49m\u001b[43mmask\u001b[49m\u001b[43m=\u001b[49m\u001b[43m_mask_to_wkb\u001b[49m\u001b[43m(\u001b[49m\u001b[43mmask\u001b[49m\u001b[43m)\u001b[49m\u001b[43m,\u001b[49m\n\u001b[32m    210\u001b[39m \u001b[43m    \u001b[49m\u001b[43mfids\u001b[49m\u001b[43m=\u001b[49m\u001b[43mfids\u001b[49m\u001b[43m,\u001b[49m\n\u001b[32m    211\u001b[39m \u001b[43m    \u001b[49m\u001b[43msql\u001b[49m\u001b[43m=\u001b[49m\u001b[43msql\u001b[49m\u001b[43m,\u001b[49m\n\u001b[32m    212\u001b[39m \u001b[43m    \u001b[49m\u001b[43msql_dialect\u001b[49m\u001b[43m=\u001b[49m\u001b[43msql_dialect\u001b[49m\u001b[43m,\u001b[49m\n\u001b[32m    213\u001b[39m \u001b[43m    \u001b[49m\u001b[43mreturn_fids\u001b[49m\u001b[43m=\u001b[49m\u001b[43mreturn_fids\u001b[49m\u001b[43m,\u001b[49m\n\u001b[32m    214\u001b[39m \u001b[43m    \u001b[49m\u001b[43mdataset_kwargs\u001b[49m\u001b[43m=\u001b[49m\u001b[43mdataset_kwargs\u001b[49m\u001b[43m,\u001b[49m\n\u001b[32m    215\u001b[39m \u001b[43m    \u001b[49m\u001b[43mdatetime_as_string\u001b[49m\u001b[43m=\u001b[49m\u001b[43mdatetime_as_string\u001b[49m\u001b[43m,\u001b[49m\n\u001b[32m    216\u001b[39m \u001b[43m\u001b[49m\u001b[43m)\u001b[49m\n",
      "\u001b[36mFile \u001b[39m\u001b[32mpyogrio/_io.pyx:1293\u001b[39m, in \u001b[36mpyogrio._io.ogr_read\u001b[39m\u001b[34m()\u001b[39m\n",
      "\u001b[36mFile \u001b[39m\u001b[32mpyogrio/_io.pyx:232\u001b[39m, in \u001b[36mpyogrio._io.ogr_open\u001b[39m\u001b[34m()\u001b[39m\n",
      "\u001b[31mDataSourceError\u001b[39m: Unable to open geo_files/ne_110m_admin_0_countries.shx or geo_files/ne_110m_admin_0_countries.SHX. Set SHAPE_RESTORE_SHX config option to YES to restore or create it."
     ]
    }
   ],
   "source": [
    "gdf = centroids.copy()\n",
    "\n",
    "def shift_longitude(geom):\n",
    "    x, y = geom.x, geom.y\n",
    "    if x < 0:\n",
    "        x += 360  # shift -180..0 to 180..360\n",
    "    return Point(x, y)\n",
    "\n",
    "gdf_pacific = centroids.to_crs(\"ESRI:54030\")\n",
    "\n",
    "gdf['geometry_shifted'] = gdf['geometry'].apply(shift_longitude)\n",
    "gdf = gdf.set_geometry('geometry_shifted')\n",
    "\n",
    "\n",
    "# Replace with the actual path to your downloaded shapefile\n",
    "world = gpd.read_file(\"geo_files/ne_110m_admin_0_countries.shp\")\n",
    "\n",
    "fig, ax = plt.subplots(figsize=(12, 6))\n",
    "world.plot(ax=ax, color='lightgrey', edgecolor='black')\n",
    "gdf.to_crs(\"ESRI:54030\").plot(ax=ax, color='blue', markersize=10)\n",
    "\n",
    "\n",
    "\n",
    "# # Plot\n",
    "# fig, ax = plt.subplots(figsize=(10, 5))\n",
    "\n",
    "# west, south, east, north = 100, -20, -60, 60 \n",
    "# # 3. Set the map extent\n",
    "# # ax.set_xlim(west, east)\n",
    "# # ax.set_ylim(south, north)\n",
    "\n",
    "# gdf_pacific.plot(ax=ax, color='blue', markersize=10)\n",
    "# # cx.add_basemap(ax, crs=\"ESRI:54030\")\n",
    "\n",
    "# # Optional: Add background world map\n",
    "# world = gpd.read_file(gpd.datasets.get_path('naturalearth_lowres')).to_crs(\"ESRI:54030\")\n",
    "# world = gpd.read_file(gpd.datasets.get_path(\"naturalearth_lowres\"))\n",
    "# world.plot(ax=ax, color='lightgrey', edgecolor='black')\n"
   ]
  },
  {
   "cell_type": "code",
   "execution_count": 95,
   "id": "816091ca",
   "metadata": {},
   "outputs": [
    {
     "data": {
      "image/png": "[encoded data removed]",
      "text/plain": [
       "<Figure size 1000x1000 with 1 Axes>"
      ]
     },
     "metadata": {},
     "output_type": "display_data"
    }
   ],
   "source": [
    "# centroids.to_crs(epsg=3857)\n",
    "ax = centroids.plot(figsize=(10, 10), alpha=0.7, edgecolor='k')\n",
    "cx.add_basemap(ax, source=cx.providers.CartoDB.Positron)\n",
    "ax.set_axis_off()\n"
   ]
  },
  {
   "cell_type": "code",
   "execution_count": null,
   "id": "ac1ca504",
   "metadata": {},
   "outputs": [],
   "source": [
    "# read in example data from a geopackage file. Geopackages\n",
    "# are a format for storing geographic data that is backed\n",
    "# by sqlite. geopandas reads data relying on the fiona package,\n",
    "# providing a high-level pandas-style interface to geographic data.\n",
    "cases = geopandas.read_file(\"cholera_cases.gpkg\")\n",
    "\n",
    "# construct the array of coordinates for the centroid\n",
    "coordinates = np.column_stack((cases.geometry.x, cases.geometry.y))\n",
    "\n",
    "# construct two different kinds of graphs:\n",
    "\n",
    "## 3-nearest neighbor graph, meaning that points are connected\n",
    "## to the three closest other points. This means every point\n",
    "## will have exactly three neighbors.\n",
    "knn3 = weights.KNN.from_dataframe(cases, k=3)\n",
    "\n",
    "## The 50-meter distance band graph will connect all pairs of points\n",
    "## that are within 50 meters from one another. This means that points\n",
    "## may have different numbers of neighbors.\n",
    "dist = weights.DistanceBand.from_array(coordinates, threshold=50)\n",
    "\n",
    "# Then, we can convert the graph to networkx object using the\n",
    "# .to_networkx() method.\n",
    "knn_graph = knn3.to_networkx()\n",
    "dist_graph = dist.to_networkx()\n",
    "\n",
    "# To plot with networkx, we need to merge the nodes back to\n",
    "# their positions in order to plot in networkx\n",
    "positions = dict(zip(knn_graph.nodes, coordinates))\n",
    "\n",
    "# plot with a nice basemap\n",
    "f, ax = plt.subplots(1, 2, figsize=(8, 4))\n",
    "for i, facet in enumerate(ax):\n",
    "    cases.plot(marker=\".\", color=\"orangered\", ax=facet)\n",
    "    try:  # For issues with downloading/parsing basemaps in CI\n",
    "        add_basemap(facet)\n",
    "    except:\n",
    "        pass\n",
    "    facet.set_title((\"KNN-3\", \"50-meter Distance Band\")[i])\n",
    "    facet.axis(\"off\")\n",
    "nx.draw(knn_graph, positions, ax=ax[0], node_size=5, node_color=\"b\")\n",
    "nx.draw(dist_graph, positions, ax=ax[1], node_size=5, node_color=\"b\")\n",
    "plt.show()"
   ]
  }
 ],
 "metadata": {
  "kernelspec": {
   "display_name": "dsan6400",
   "language": "python",
   "name": "python3"
  },
  "language_info": {
   "codemirror_mode": {
    "name": "ipython",
    "version": 3
   },
   "file_extension": ".py",
   "mimetype": "text/x-python",
   "name": "python",
   "nbconvert_exporter": "python",
   "pygments_lexer": "ipython3",
   "version": "3.13.5"
  }
 },
 "nbformat": 4,
 "nbformat_minor": 5
}
