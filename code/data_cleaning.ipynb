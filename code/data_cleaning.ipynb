{
 "cells": [
  {
   "cell_type": "markdown",
   "id": "6ca32042",
   "metadata": {},
   "source": [
    "# Data Cleaning\n",
    "\n",
    "AIS data"
   ]
  },
  {
   "cell_type": "code",
   "execution_count": 4,
   "id": "b7f9dbfe",
   "metadata": {},
   "outputs": [],
   "source": [
    "import pandas as pd\n",
    "import numpy as np\n",
    "import os\n",
    "import re"
   ]
  },
  {
   "cell_type": "markdown",
   "id": "beb45c8d",
   "metadata": {},
   "source": [
    "All the AIS files are the same time period: 01JUL2024 - 01JUL2025\n",
    "AIS data is from Global Fishing Watch and utilizes AIS data and their algorithm to identify 'apparent fishing efforts'. This is aimed to be just fishing vessel movement and activity information.\n",
    "\n",
    "Data is broken down by EEZ and High Seas Pockets (for areas outside the EEZs) and concentrated in the highy traversed parts of the WCPFC's Convention Area."
   ]
  },
  {
   "cell_type": "code",
   "execution_count": 5,
   "id": "8d223cdc",
   "metadata": {},
   "outputs": [
    {
     "name": "stdout",
     "output_type": "stream",
     "text": [
      "../data/AIS_data/rmi_eez.csv\n",
      "rmi_eez\n",
      "../data/AIS_data/tonga_eez.csv\n",
      "tonga_eez\n",
      "../data/AIS_data/nauru_eez.csv\n",
      "nauru_eez\n",
      "../data/AIS_data/vanuatu_eez.csv\n",
      "vanuatu_eez\n",
      "../data/AIS_data/hsp2.csv\n",
      "hsp2\n",
      "../data/AIS_data/hsp3.csv\n",
      "hsp3\n",
      "../data/AIS_data/hsp1.csv\n",
      "hsp1\n",
      "../data/AIS_data/usa2_eez.csv\n",
      "usa2_eez\n",
      "../data/AIS_data/hsp4.csv\n",
      "hsp4\n",
      "../data/AIS_data/hsp5.csv\n",
      "hsp5\n",
      "../data/AIS_data/usa_eez.csv\n",
      "usa_eez\n",
      "../data/AIS_data/hsp7.csv\n",
      "hsp7\n",
      "../data/AIS_data/hsp6.csv\n",
      "hsp6\n",
      "../data/AIS_data/palau_eez.csv\n",
      "palau_eez\n",
      "../data/AIS_data/fsm_eez.csv\n",
      "fsm_eez\n",
      "../data/AIS_data/kirbati2_eez.csv\n",
      "kirbati2_eez\n",
      "../data/AIS_data/png_eez.csv\n",
      "png_eez\n",
      "../data/AIS_data/fiji_eez.csv\n",
      "fiji_eez\n",
      "../data/AIS_data/tuvalu_eez.csv\n",
      "tuvalu_eez\n",
      "../data/AIS_data/kiribati1_eez.csv\n",
      "kiribati1_eez\n",
      "../data/AIS_data/solomon_islands_eez.csv\n",
      "solomon_islands_eez\n",
      "Index(['flag', 'vessel_name', 'mmsi', 'imo', 'rmi_eez', 'tonga_eez',\n",
      "       'nauru_eez', 'vanuatu_eez', 'hsp2', 'hsp3', 'hsp1', 'usa2_eez', 'hsp4',\n",
      "       'hsp5', 'usa_eez', 'hsp7', 'hsp6', 'palau_eez', 'fsm_eez',\n",
      "       'kirbati2_eez', 'png_eez', 'fiji_eez', 'tuvalu_eez', 'kiribati1_eez',\n",
      "       'solomon_islands_eez'],\n",
      "      dtype='object')\n",
      "Index(['flag', 'vessel_name', 'mmsi', 'imo', 'fishing_hours', 'fishing_area'], dtype='object')\n"
     ]
    },
    {
     "name": "stderr",
     "output_type": "stream",
     "text": [
      "/var/folders/0t/txmdz9bs23b528hfd3hh8grh0000gn/T/ipykernel_48036/1382724485.py:37: FutureWarning: The behavior of DataFrame concatenation with empty or all-NA entries is deprecated. In a future version, this will no longer exclude empty or all-NA columns when determining the result dtypes. To retain the old behavior, exclude the relevant entries before the concat operation.\n",
      "  longer_df = pd.concat([longer_df, df_filter], ignore_index=True)\n"
     ]
    }
   ],
   "source": [
    "directory_path = '../data/AIS_data'\n",
    "\n",
    "merged_df = pd.DataFrame(columns=['flag', 'vessel_name', 'mmsi', 'imo'])\n",
    "longer_df = pd.DataFrame(columns=['flag', 'vessel_name', 'mmsi', 'imo'])\n",
    "\n",
    "\n",
    "for filename in os.listdir(directory_path):\n",
    "    file_path = os.path.join(directory_path, filename)\n",
    "    print(file_path)\n",
    "    if file_path != \"../data/AIS_data/.DS_Store\":\n",
    "        df = pd.read_csv(file_path)\n",
    "\n",
    "        df_filter = df[['Flag', 'Vessel Name', 'MMSI', 'IMO', 'Apparent Fishing Hours']].copy()\n",
    "\n",
    "        area_name = file_path[17:][:-4]\n",
    "        print(area_name)\n",
    "\n",
    "        df_filter.columns = ['flag', 'vessel_name', 'mmsi', 'imo',area_name]\n",
    "\n",
    "        df_filter['mmsi'] = df_filter['mmsi'].apply(lambda x: str(int(x)) if pd.notna(x) else x)\n",
    "        df_filter['imo'] = df_filter['imo'].apply(lambda x: str(int(x)) if pd.notna(x) else x)\n",
    "\n",
    "        df_filter['vessel_name'] = df_filter['vessel_name'].astype(str).str.upper()\n",
    "        df_filter['vessel_name'] = df_filter['vessel_name'].str.replace(\"F/V\", \"\", regex=False).str.replace(\"FV \", \"\", regex=False).str.replace(\"\\\"\", \"\", regex=False).str.replace(\".\", \"\", regex=False).str.replace('\"', '', regex=False).str.strip()\n",
    "\n",
    "        df_filter = df_filter.drop_duplicates()\n",
    "\n",
    "        merged_df = pd.merge(merged_df, df_filter, on = ['flag', 'vessel_name', 'mmsi', 'imo'], how = 'outer')\n",
    "\n",
    "        # make a longer dataframe for network creation\n",
    "        df_filter = df[['Flag', 'Vessel Name', 'MMSI', 'IMO', 'Apparent Fishing Hours']].copy()\n",
    "        df_filter['fishing_area'] = area_name\n",
    "        df_filter.columns = ['flag', 'vessel_name', 'mmsi', 'imo','fishing_hours', 'fishing_area']\n",
    "        df_filter = df_filter.drop_duplicates()\n",
    "        df_filter = df_filter.replace(['', 'nan'], pd.NA)\n",
    "\n",
    "        longer_df = pd.concat([longer_df, df_filter], ignore_index=True)\n",
    "\n",
    "# Replace blanks and string 'nan' with actual NaN\n",
    "merged_df = merged_df.replace(['', 'nan'], pd.NA)\n",
    "# resolve duplicate vessels\n",
    "# group by the first four columns and compute the mean for the rest\n",
    "grouped_df = merged_df.groupby(['flag', 'vessel_name', 'mmsi', 'imo'], dropna=False).mean(numeric_only=True).reset_index()\n",
    "\n",
    "# check columns\n",
    "print(grouped_df.columns)\n",
    "print(longer_df.columns)\n",
    "\n",
    "# sort dataframes\n",
    "longer_df = longer_df.sort_values(by = ['flag','vessel_name'], ascending=True).copy()\n",
    "grouped_df = grouped_df.sort_values(by = ['flag','vessel_name'], ascending=True).copy()\n",
    "\n",
    "# write to a csv\n",
    "grouped_df.to_csv(\"../data/merged_ais_data.csv\", index=False)\n",
    "longer_df.to_csv('../data/longer_ais_data.csv', index=False)"
   ]
  },
  {
   "cell_type": "markdown",
   "id": "3f12caff",
   "metadata": {},
   "source": [
    "# Cleaning the Registered Fishing Vessel List (RFV)"
   ]
  },
  {
   "cell_type": "code",
   "execution_count": 6,
   "id": "210cf4c1",
   "metadata": {},
   "outputs": [],
   "source": [
    "# to convert to two letter country code to three\n",
    "import pycountry\n",
    "\n",
    "# convert 2-letter country code to 3-letter code\n",
    "def alpha2_to_alpha3(code):\n",
    "    try:\n",
    "        return pycountry.countries.get(alpha_2=code).alpha_3\n",
    "    except:\n",
    "        return None \n",
    "    \n",
    "# convert country name to 3-letter code\n",
    "def name_to_alpha3(name):\n",
    "    try:\n",
    "        return pycountry.countries.get(name=name).alpha_3\n",
    "    except:\n",
    "        return None "
   ]
  },
  {
   "cell_type": "code",
   "execution_count": 7,
   "id": "d106197b",
   "metadata": {},
   "outputs": [],
   "source": [
    "# vessel type csv file\n",
    "vessel_tyes = pd.read_csv('../data/standard_code_lists/Fishery_Vessel_Types.csv')\n",
    "\n",
    "# function to convert vessel type\n",
    "def get_vessel_type_from_abbr(abbr_code):\n",
    "    match = vessel_tyes[vessel_tyes[\"Standard Abbreviation Code\"] == abbr_code]\n",
    "    if not match.empty:\n",
    "        return match.iloc[0][\"Vessel Type\"]\n",
    "    else:\n",
    "        return \"Unknown abbreviation\""
   ]
  },
  {
   "cell_type": "code",
   "execution_count": 8,
   "id": "f36382a6",
   "metadata": {},
   "outputs": [
    {
     "name": "stderr",
     "output_type": "stream",
     "text": [
      "/var/folders/0t/txmdz9bs23b528hfd3hh8grh0000gn/T/ipykernel_48036/3083843949.py:11: SettingWithCopyWarning: \n",
      "A value is trying to be set on a copy of a slice from a DataFrame.\n",
      "Try using .loc[row_indexer,col_indexer] = value instead\n",
      "\n",
      "See the caveats in the documentation: https://pandas.pydata.org/pandas-docs/stable/user_guide/indexing.html#returning-a-view-versus-a-copy\n",
      "  rfv_sub['flag'] = rfv_sub['flag_2'].apply(alpha2_to_alpha3)\n"
     ]
    },
    {
     "name": "stdout",
     "output_type": "stream",
     "text": [
      "       vessel_name flag_2 home_port  \\\n",
      "0       OCEAN STAR     PA    PA-PTY   \n",
      "1        MONTELAPE     SV    SV-LUN   \n",
      "2       MONTELUCIA     SV    SV-LUN   \n",
      "3       MONTEROCIO     SV    SV-LUN   \n",
      "4  CHANG YI NO.368     TW    TW-KHH   \n",
      "\n",
      "                                            owner  \\\n",
      "0                          MED BFT VESSEL LIMITED   \n",
      "1  Oakcity Tuna Fishing Corporation, S.A. de C.V.   \n",
      "2    OAKCITY TUNA FISHING CORPORATION S.A de C.V.   \n",
      "3    OAKCITY TUNA FISHING CORPORATION S.A de C.V.   \n",
      "4                   HAI CHAN YANG FISHERY CO.,LTD   \n",
      "\n",
      "                                      ownder_address        vessel_type flag  \n",
      "0  Hangar, Triq it-Trunciera, Marsaxlokk, MXK 152...       Fish carrier  PAN  \n",
      "1  CALLE LOMA LINDA, NO.251, COLONIA SAN BENITOSA...  Tuna purse seiner  SLV  \n",
      "2  CALLE LOMA LINDA, NO.251, COLONIA SAN BENITOSA...  Tuna purse seiner  SLV  \n",
      "3  CALLE LOMA LINDA, NO.251, COLONIA SAN BENITOSA...  Tuna purse seiner  SLV  \n",
      "4  No. 971-6, Wufang Rd., Xinyuan Township, Pingt...     Tuna longliner  TWN  \n"
     ]
    },
    {
     "name": "stderr",
     "output_type": "stream",
     "text": [
      "/var/folders/0t/txmdz9bs23b528hfd3hh8grh0000gn/T/ipykernel_48036/3083843949.py:14: SettingWithCopyWarning: \n",
      "A value is trying to be set on a copy of a slice from a DataFrame.\n",
      "Try using .loc[row_indexer,col_indexer] = value instead\n",
      "\n",
      "See the caveats in the documentation: https://pandas.pydata.org/pandas-docs/stable/user_guide/indexing.html#returning-a-view-versus-a-copy\n",
      "  rfv_sub['vessel_type'] = rfv_sub['vessel_type'].apply(get_vessel_type_from_abbr)\n"
     ]
    }
   ],
   "source": [
    "# load file\n",
    "rfv = pd.read_csv('../data/WCPFC_raw_RFV.csv')\n",
    "\n",
    "# get only the columns we need\n",
    "good_cols = [\"Name of fishing vessel\",\"Flag of fishing vessel\",\"Port of registry\",\"Name of the owner or owners\",\"Address of the owner or owners\",\"Type of vessel\"]\n",
    "rfv_sub = rfv[good_cols]\n",
    "# rename columns\n",
    "rfv_sub.columns = [\"vessel_name\", \"flag_2\", \"home_port\",'owner','ownder_address','vessel_type']\n",
    "\n",
    "# convert two letter code to three letter country code\n",
    "rfv_sub['flag'] = rfv_sub['flag_2'].apply(alpha2_to_alpha3)\n",
    "\n",
    "# convert fishing vessel type\n",
    "rfv_sub['vessel_type'] = rfv_sub['vessel_type'].apply(get_vessel_type_from_abbr)\n",
    "\n",
    "print(rfv_sub.head())"
   ]
  },
  {
   "cell_type": "code",
   "execution_count": 9,
   "id": "c7dc33bc",
   "metadata": {},
   "outputs": [
    {
     "name": "stdout",
     "output_type": "stream",
     "text": [
      "       vessel_name flag_2 home_port  \\\n",
      "0       OCEAN STAR     PA    PA-PTY   \n",
      "1        MONTELAPE     SV    SV-LUN   \n",
      "2       MONTELUCIA     SV    SV-LUN   \n",
      "3       MONTEROCIO     SV    SV-LUN   \n",
      "4  CHANG YI NO.368     TW    TW-KHH   \n",
      "\n",
      "                                            owner  \\\n",
      "0                          MED BFT VESSEL LIMITED   \n",
      "1  Oakcity Tuna Fishing Corporation, S.A. de C.V.   \n",
      "2    OAKCITY TUNA FISHING CORPORATION S.A de C.V.   \n",
      "3    OAKCITY TUNA FISHING CORPORATION S.A de C.V.   \n",
      "4                   HAI CHAN YANG FISHERY CO.,LTD   \n",
      "\n",
      "                                      ownder_address        vessel_type flag  \\\n",
      "0  Hangar, Triq it-Trunciera, Marsaxlokk, MXK 152...       Fish carrier  PAN   \n",
      "1  CALLE LOMA LINDA, NO.251, COLONIA SAN BENITOSA...  Tuna purse seiner  SLV   \n",
      "2  CALLE LOMA LINDA, NO.251, COLONIA SAN BENITOSA...  Tuna purse seiner  SLV   \n",
      "3  CALLE LOMA LINDA, NO.251, COLONIA SAN BENITOSA...  Tuna purse seiner  SLV   \n",
      "4  No. 971-6, Wufang Rd., Xinyuan Township, Pingt...     Tuna longliner  TWN   \n",
      "\n",
      "                          owner_location  \n",
      "0                        (MXK 1522, MLT)  \n",
      "1  (COLONIA SAN BENITOSAN SALVADOR, SLV)  \n",
      "2  (COLONIA SAN BENITOSAN SALVADOR, SLV)  \n",
      "3  (COLONIA SAN BENITOSAN SALVADOR, SLV)  \n",
      "4         (Pingtung County 932019, None)  \n"
     ]
    },
    {
     "name": "stderr",
     "output_type": "stream",
     "text": [
      "/var/folders/0t/txmdz9bs23b528hfd3hh8grh0000gn/T/ipykernel_48036/3860550387.py:17: SettingWithCopyWarning: \n",
      "A value is trying to be set on a copy of a slice from a DataFrame.\n",
      "Try using .loc[row_indexer,col_indexer] = value instead\n",
      "\n",
      "See the caveats in the documentation: https://pandas.pydata.org/pandas-docs/stable/user_guide/indexing.html#returning-a-view-versus-a-copy\n",
      "  rfv_sub['owner_location'] = rfv_sub['ownder_address'].apply(parse_state_country)\n"
     ]
    }
   ],
   "source": [
    "# parse address\n",
    "def parse_state_country(address):\n",
    "    address = str(address)\n",
    "    parts = address.split(',')\n",
    "    if len(parts) >= 2:\n",
    "        state = parts[-2].strip()\n",
    "        country = parts[-1].strip()\n",
    "        # manually fix Taiwan\n",
    "        if country == \"Taiwan (R.O.C.)\":\n",
    "            country = \"Taiwan\"\n",
    "            country_code = \"TWN\"\n",
    "        # convert to country code\n",
    "        country_code = name_to_alpha3(country)\n",
    "        return state, country_code\n",
    "    return None, None\n",
    "\n",
    "rfv_sub['owner_location'] = rfv_sub['ownder_address'].apply(parse_state_country)\n",
    "\n",
    "print(rfv_sub.head())"
   ]
  },
  {
   "cell_type": "code",
   "execution_count": 10,
   "id": "ab9796d1",
   "metadata": {},
   "outputs": [
    {
     "name": "stderr",
     "output_type": "stream",
     "text": [
      "/var/folders/0t/txmdz9bs23b528hfd3hh8grh0000gn/T/ipykernel_48036/2335596569.py:15: SettingWithCopyWarning: \n",
      "A value is trying to be set on a copy of a slice from a DataFrame.\n",
      "Try using .loc[row_indexer,col_indexer] = value instead\n",
      "\n",
      "See the caveats in the documentation: https://pandas.pydata.org/pandas-docs/stable/user_guide/indexing.html#returning-a-view-versus-a-copy\n",
      "  rfv_sub['h_port'] = rfv_sub['home_port'].apply(get_port_code)\n"
     ]
    },
    {
     "name": "stdout",
     "output_type": "stream",
     "text": [
      "       vessel_name flag_2 home_port  \\\n",
      "0       OCEAN STAR     PA    PA-PTY   \n",
      "1        MONTELAPE     SV    SV-LUN   \n",
      "2       MONTELUCIA     SV    SV-LUN   \n",
      "3       MONTEROCIO     SV    SV-LUN   \n",
      "4  CHANG YI NO.368     TW    TW-KHH   \n",
      "\n",
      "                                            owner  \\\n",
      "0                          MED BFT VESSEL LIMITED   \n",
      "1  Oakcity Tuna Fishing Corporation, S.A. de C.V.   \n",
      "2    OAKCITY TUNA FISHING CORPORATION S.A de C.V.   \n",
      "3    OAKCITY TUNA FISHING CORPORATION S.A de C.V.   \n",
      "4                   HAI CHAN YANG FISHERY CO.,LTD   \n",
      "\n",
      "                                      ownder_address        vessel_type flag  \\\n",
      "0  Hangar, Triq it-Trunciera, Marsaxlokk, MXK 152...       Fish carrier  PAN   \n",
      "1  CALLE LOMA LINDA, NO.251, COLONIA SAN BENITOSA...  Tuna purse seiner  SLV   \n",
      "2  CALLE LOMA LINDA, NO.251, COLONIA SAN BENITOSA...  Tuna purse seiner  SLV   \n",
      "3  CALLE LOMA LINDA, NO.251, COLONIA SAN BENITOSA...  Tuna purse seiner  SLV   \n",
      "4  No. 971-6, Wufang Rd., Xinyuan Township, Pingt...     Tuna longliner  TWN   \n",
      "\n",
      "                          owner_location             h_port  \n",
      "0                        (MXK 1522, MLT)      (Panama, PAN)  \n",
      "1  (COLONIA SAN BENITOSAN SALVADOR, SLV)    (La Union, SLV)  \n",
      "2  (COLONIA SAN BENITOSAN SALVADOR, SLV)    (La Union, SLV)  \n",
      "3  (COLONIA SAN BENITOSAN SALVADOR, SLV)    (La Union, SLV)  \n",
      "4         (Pingtung County 932019, None)  (Kaohsiung, None)  \n"
     ]
    }
   ],
   "source": [
    "# covert home port list\n",
    "port_codes = pd.read_csv('../data/standard_code_lists/port_code_list.csv')\n",
    "\n",
    "# function to convert vessel type\n",
    "def get_port_code(abbr_code):\n",
    "    match = port_codes[port_codes[\"Port Code\"] == abbr_code]\n",
    "    if not match.empty:\n",
    "        port = match.iloc[0][\"Port Name\"]\n",
    "        country = match.iloc[0][\"Location Country\"] \n",
    "        country_code = name_to_alpha3(country)        \n",
    "        return port, country_code\n",
    "    else:\n",
    "        return None, None\n",
    "    \n",
    "rfv_sub['h_port'] = rfv_sub['home_port'].apply(get_port_code)\n",
    "\n",
    "print(rfv_sub.head())"
   ]
  },
  {
   "cell_type": "markdown",
   "id": "74e11b83",
   "metadata": {},
   "source": [
    "Clean the owner names and vessel names"
   ]
  },
  {
   "cell_type": "code",
   "execution_count": 11,
   "id": "0e42c3bf",
   "metadata": {},
   "outputs": [
    {
     "name": "stdout",
     "output_type": "stream",
     "text": [
      "      vessel_name flag_2 home_port  \\\n",
      "0      OCEAN STAR     PA    PA-PTY   \n",
      "1       MONTELAPE     SV    SV-LUN   \n",
      "2      MONTELUCIA     SV    SV-LUN   \n",
      "3      MONTEROCIO     SV    SV-LUN   \n",
      "4  CHANG YI NO368     TW    TW-KHH   \n",
      "\n",
      "                                            owner  \\\n",
      "0                          MED BFT VESSEL LIMITED   \n",
      "1  Oakcity Tuna Fishing Corporation, S.A. de C.V.   \n",
      "2    OAKCITY TUNA FISHING CORPORATION S.A de C.V.   \n",
      "3    OAKCITY TUNA FISHING CORPORATION S.A de C.V.   \n",
      "4                   HAI CHAN YANG FISHERY CO.,LTD   \n",
      "\n",
      "                                      ownder_address        vessel_type flag  \\\n",
      "0  Hangar, Triq it-Trunciera, Marsaxlokk, MXK 152...       Fish carrier  PAN   \n",
      "1  CALLE LOMA LINDA, NO.251, COLONIA SAN BENITOSA...  Tuna purse seiner  SLV   \n",
      "2  CALLE LOMA LINDA, NO.251, COLONIA SAN BENITOSA...  Tuna purse seiner  SLV   \n",
      "3  CALLE LOMA LINDA, NO.251, COLONIA SAN BENITOSA...  Tuna purse seiner  SLV   \n",
      "4  No. 971-6, Wufang Rd., Xinyuan Township, Pingt...     Tuna longliner  TWN   \n",
      "\n",
      "                          owner_location             h_port  \n",
      "0                        (MXK 1522, MLT)      (Panama, PAN)  \n",
      "1  (COLONIA SAN BENITOSAN SALVADOR, SLV)    (La Union, SLV)  \n",
      "2  (COLONIA SAN BENITOSAN SALVADOR, SLV)    (La Union, SLV)  \n",
      "3  (COLONIA SAN BENITOSAN SALVADOR, SLV)    (La Union, SLV)  \n",
      "4         (Pingtung County 932019, None)  (Kaohsiung, None)  \n"
     ]
    },
    {
     "name": "stderr",
     "output_type": "stream",
     "text": [
      "/var/folders/0t/txmdz9bs23b528hfd3hh8grh0000gn/T/ipykernel_48036/2544796108.py:7: SettingWithCopyWarning: \n",
      "A value is trying to be set on a copy of a slice from a DataFrame.\n",
      "Try using .loc[row_indexer,col_indexer] = value instead\n",
      "\n",
      "See the caveats in the documentation: https://pandas.pydata.org/pandas-docs/stable/user_guide/indexing.html#returning-a-view-versus-a-copy\n",
      "  rfv_sub['vessel_name'] = rfv_sub['vessel_name'].str.upper()\n",
      "/var/folders/0t/txmdz9bs23b528hfd3hh8grh0000gn/T/ipykernel_48036/2544796108.py:8: SettingWithCopyWarning: \n",
      "A value is trying to be set on a copy of a slice from a DataFrame.\n",
      "Try using .loc[row_indexer,col_indexer] = value instead\n",
      "\n",
      "See the caveats in the documentation: https://pandas.pydata.org/pandas-docs/stable/user_guide/indexing.html#returning-a-view-versus-a-copy\n",
      "  rfv_sub['vessel_name'] = rfv_sub['vessel_name'].str.replace(\"F/V\", \"\", regex=False).str.replace(\"FV \", \"\", regex=False).str.replace(\"\\\"\", \"\", regex=False).str.replace(\".\", \"\", regex=False).str.replace('\"', '', regex=False).str.strip()\n"
     ]
    }
   ],
   "source": [
    "def fix_name(name):\n",
    "    good_name = name.str.upper()\n",
    "    good_name = good_name.str.replace(\"F/V\", \"\", regex=False).str.replace(\"FV \", \"\", regex=False).str.replace(\"\\\"\", \"\", regex=False).str.replace(\".\", \"\", regex=False).str.replace('\"', '', regex=False).str.strip()\n",
    "    return good_name\n",
    "\n",
    "\n",
    "rfv_sub['vessel_name'] = rfv_sub['vessel_name'].str.upper()\n",
    "rfv_sub['vessel_name'] = rfv_sub['vessel_name'].str.replace(\"F/V\", \"\", regex=False).str.replace(\"FV \", \"\", regex=False).str.replace(\"\\\"\", \"\", regex=False).str.replace(\".\", \"\", regex=False).str.replace('\"', '', regex=False).str.strip()\n",
    "\n",
    "print(rfv_sub.head())"
   ]
  },
  {
   "cell_type": "code",
   "execution_count": 12,
   "id": "f605106b",
   "metadata": {},
   "outputs": [],
   "source": [
    "# drop some of the columns\n",
    "rfv_sub2 = rfv_sub[['vessel_name', 'owner', 'vessel_type', 'flag', 'owner_location', 'h_port']]\n",
    "\n",
    "# rename one column\n",
    "rfv_sub2.columns = ['vessel_name', 'owner', 'vessel_type', 'flag', 'owner_location', 'home_port']\n",
    "\n",
    "# write to CSV\n",
    "rfv_sub2.to_csv(\"../data/WCPFC_cleaned_RFV.csv\", index=False)"
   ]
  },
  {
   "cell_type": "markdown",
   "id": "ee3f14bf",
   "metadata": {},
   "source": [
    "# Combine with the AIS Data"
   ]
  },
  {
   "cell_type": "code",
   "execution_count": 13,
   "id": "fc6fbced",
   "metadata": {},
   "outputs": [],
   "source": [
    "# load in the two data sources\n",
    "ais = pd.read_csv('../data/longer_ais_data.csv')\n",
    "rfv = pd.read_csv('../data/WCPFC_cleaned_RFV.csv')"
   ]
  },
  {
   "cell_type": "code",
   "execution_count": 14,
   "id": "333c7a2b",
   "metadata": {},
   "outputs": [
    {
     "name": "stdout",
     "output_type": "stream",
     "text": [
      "        vessel_name                                           owner  \\\n",
      "0        OCEAN STAR                          MED BFT VESSEL LIMITED   \n",
      "1         MONTELAPE  Oakcity Tuna Fishing Corporation, S.A. de C.V.   \n",
      "2        MONTELUCIA    OAKCITY TUNA FISHING CORPORATION S.A de C.V.   \n",
      "3        MONTEROCIO    OAKCITY TUNA FISHING CORPORATION S.A de C.V.   \n",
      "4    CHANG YI NO368                   HAI CHAN YANG FISHERY CO.,LTD   \n",
      "5    TOSAKAIEN MARU                                       KOCHI KEN   \n",
      "6   FUJITAFUJI MARU                   FUJITA GYOGYOU COMPANY., Ltd.   \n",
      "7    HUA NAN YU 769       CHINA SOUTHERN FISHERY(SHENZHEN)  CO.,LTD   \n",
      "8  QUEEN JANICE-101         TSP LIVESTOCK & DEVELOPMENT CORPORATION   \n",
      "9  PRINCESS JASMINE                                DANG FISHERY INC   \n",
      "\n",
      "               vessel_type flag                             owner_location  \\\n",
      "0             Fish carrier  PAN                        ('MXK 1522', 'MLT')   \n",
      "1        Tuna purse seiner  SLV  ('COLONIA SAN BENITOSAN SALVADOR', 'SLV')   \n",
      "2        Tuna purse seiner  SLV  ('COLONIA SAN BENITOSAN SALVADOR', 'SLV')   \n",
      "3        Tuna purse seiner  SLV  ('COLONIA SAN BENITOSAN SALVADOR', 'SLV')   \n",
      "4           Tuna longliner  TWN           ('Pingtung County 932019', None)   \n",
      "5  Fishery research vessel  JPN                           ('KOCHI', 'JPN')   \n",
      "6           Tuna longliner  JPN                           ('KOCHI', 'JPN')   \n",
      "7                Longliner  CHN                         ('Shenzhen', None)   \n",
      "8        Tuna purse seiner  PHL                           ('Bawing', None)   \n",
      "9           Tuna longliner  USA                    ('HI 96817-4522', None)   \n",
      "\n",
      "                   home_port vessel_name_clean  \n",
      "0          ('Panama', 'PAN')         OCEANSTAR  \n",
      "1        ('La Union', 'SLV')         MONTELAPE  \n",
      "2        ('La Union', 'SLV')        MONTELUCIA  \n",
      "3        ('La Union', 'SLV')        MONTEROCIO  \n",
      "4        ('Kaohsiung', None)      CHANGYINO368  \n",
      "5           ('Kochi', 'JPN')     TOSAKAIENMARU  \n",
      "6     ('Tosashimizu', 'JPN')    FUJITAFUJIMARU  \n",
      "7          ('Shekou', 'CHN')       HUANANYU769  \n",
      "8  ('General Santos', 'PHL')    QUEENJANICE101  \n",
      "9         ('Honolulu', None)   PRINCESSJASMINE  \n"
     ]
    }
   ],
   "source": [
    "# remove any spaces and then remove any wierd characters\n",
    "ais['vessel_name_clean'] = ais['vessel_name'].str.replace(\" \", \"\", regex=False).str.replace(\"-\", \"\", regex=False)\n",
    "ais['vessel_name_clean'] = ais['vessel_name_clean'].str.replace(r'[^A-Za-z0-9 ]+', '', regex=True)\n",
    "\n",
    "rfv['vessel_name_clean'] = rfv['vessel_name'].str.replace(\" \", \"\", regex=False).str.replace(\"-\", \"\", regex=False)\n",
    "rfv['vessel_name_clean'] = rfv['vessel_name_clean'].str.replace(r'[^A-Za-z0-9 ]+', '', regex=True)\n",
    "print(rfv.head(10))"
   ]
  },
  {
   "cell_type": "code",
   "execution_count": 15,
   "id": "f90030ff",
   "metadata": {},
   "outputs": [],
   "source": [
    "# merge the two on the clean name version\n",
    "merged = pd.merge(ais, rfv, on = ['flag','vessel_name_clean'])\n",
    "\n",
    "# drop the redudent name columns\n",
    "merged = merged[['flag', 'vessel_name_x', 'mmsi', 'imo', 'fishing_hours', 'fishing_area',\n",
    "       'owner', 'vessel_type','owner_location', 'home_port']]\n",
    "\n",
    "# rename column\n",
    "merged.columns = ['flag', 'vessel_name', 'mmsi', 'imo', 'fishing_hours', 'fishing_area',\n",
    "       'owner', 'vessel_type','owner_location', 'home_port']"
   ]
  },
  {
   "cell_type": "code",
   "execution_count": 16,
   "id": "4cba7b49",
   "metadata": {},
   "outputs": [
    {
     "name": "stdout",
     "output_type": "stream",
     "text": [
      "2298\n",
      "  flag     vessel_name         mmsi        imo  fishing_hours   fishing_area  \\\n",
      "0  CHN    DONG YU 1521  412421095.0        NaN          22.86           hsp7   \n",
      "1  CHN    DONG YU 1521  412421095.0        NaN         291.10           hsp6   \n",
      "2  CHN    DONG YU 1521  412421095.0        NaN        1421.71   kirbati2_eez   \n",
      "3  CHN    DONG YU 1521  412421095.0        NaN         741.84  kiribati1_eez   \n",
      "4  CHN  FENG XIANG 818  412439604.0  8996176.0          12.19      nauru_eez   \n",
      "\n",
      "                                     owner   vessel_type      owner_location  \\\n",
      "0  Zhejiang Xingpeng Ocean Fishery CO.,LTD     Longliner  ('Zhoushan', None)   \n",
      "1  Zhejiang Xingpeng Ocean Fishery CO.,LTD     Longliner  ('Zhoushan', None)   \n",
      "2  Zhejiang Xingpeng Ocean Fishery CO.,LTD     Longliner  ('Zhoushan', None)   \n",
      "3  Zhejiang Xingpeng Ocean Fishery CO.,LTD     Longliner  ('Zhoushan', None)   \n",
      "4    Ningbo Yongfa Ocean Fisheries CO.,LTD  Purse seiner   ('NINGBO', 'CHN')   \n",
      "\n",
      "             home_port  \n",
      "0  ('Zhoushan', 'CHN')  \n",
      "1  ('Zhoushan', 'CHN')  \n",
      "2  ('Zhoushan', 'CHN')  \n",
      "3  ('Zhoushan', 'CHN')  \n",
      "4    ('Ningbo', 'CHN')  \n"
     ]
    }
   ],
   "source": [
    "# check structure and df\n",
    "print(len(merged))\n",
    "print(merged.head())"
   ]
  },
  {
   "cell_type": "code",
   "execution_count": 17,
   "id": "875d4f47",
   "metadata": {},
   "outputs": [],
   "source": [
    "merged.to_csv('../data/ais_rfv_long.csv', index=False)"
   ]
  }
 ],
 "metadata": {
  "kernelspec": {
   "display_name": "network_analytics",
   "language": "python",
   "name": "python3"
  },
  "language_info": {
   "codemirror_mode": {
    "name": "ipython",
    "version": 3
   },
   "file_extension": ".py",
   "mimetype": "text/x-python",
   "name": "python",
   "nbconvert_exporter": "python",
   "pygments_lexer": "ipython3",
   "version": "3.11.13"
  }
 },
 "nbformat": 4,
 "nbformat_minor": 5
}
